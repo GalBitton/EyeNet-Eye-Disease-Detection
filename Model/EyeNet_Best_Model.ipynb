{
 "cells": [
  {
   "cell_type": "code",
   "id": "initial_id",
   "metadata": {
    "collapsed": true,
    "ExecuteTime": {
     "end_time": "2025-06-27T21:35:04.761982Z",
     "start_time": "2025-06-27T21:35:04.749985Z"
    }
   },
   "source": [
    "import os\n",
    "import random\n",
    "import numpy as np\n",
    "import tensorflow as tf\n",
    "import matplotlib.pyplot as plt\n",
    "from tensorflow.keras import layers, Model, Input\n",
    "from tensorflow.keras.applications import DenseNet121\n",
    "from tensorflow.keras.preprocessing.image import ImageDataGenerator\n",
    "from tensorflow.keras.callbacks import EarlyStopping, ReduceLROnPlateau, ModelCheckpoint\n",
    "from tensorflow_addons.optimizers import AdamW\n",
    "from tensorflow_addons.losses import SigmoidFocalCrossEntropy\n",
    "from sklearn.metrics import classification_report, confusion_matrix"
   ],
   "outputs": [],
   "execution_count": 12
  },
  {
   "metadata": {
    "ExecuteTime": {
     "end_time": "2025-06-27T21:35:04.777460Z",
     "start_time": "2025-06-27T21:35:04.765225Z"
    }
   },
   "cell_type": "code",
   "source": [
    "def set_seed(seed=42):\n",
    "    random.seed(seed)\n",
    "    np.random.seed(seed)\n",
    "    tf.random.set_seed(seed)"
   ],
   "id": "9a3fbb664bb284a2",
   "outputs": [],
   "execution_count": 13
  },
  {
   "metadata": {
    "ExecuteTime": {
     "end_time": "2025-06-27T21:35:04.811205Z",
     "start_time": "2025-06-27T21:35:04.795904Z"
    }
   },
   "cell_type": "code",
   "source": [
    "def cbam_block(inputs, reduction=16):\n",
    "    avg_pool = layers.GlobalAveragePooling2D()(inputs)\n",
    "    max_pool = layers.GlobalMaxPooling2D()(inputs)\n",
    "    shared_dense = layers.Dense(inputs.shape[-1] // reduction, activation='relu')\n",
    "    avg_out = shared_dense(avg_pool)\n",
    "    max_out = shared_dense(max_pool)\n",
    "    channel = layers.Add()([avg_out, max_out])\n",
    "    channel = layers.Dense(inputs.shape[-1], activation='sigmoid')(channel)\n",
    "    channel = layers.Reshape((1, 1, inputs.shape[-1]))(channel)\n",
    "    x = layers.Multiply()([inputs, channel])\n",
    "    avg_spatial = tf.reduce_mean(x, axis=-1, keepdims=True)\n",
    "    max_spatial = tf.reduce_max(x, axis=-1, keepdims=True)\n",
    "    concat = layers.Concatenate(axis=-1)([avg_spatial, max_spatial])\n",
    "    spatial = layers.Conv2D(1, (7, 7), padding='same', activation='sigmoid')(concat)\n",
    "    return layers.Multiply()([x, spatial])"
   ],
   "id": "6405d57eee4fa83",
   "outputs": [],
   "execution_count": 14
  },
  {
   "metadata": {
    "ExecuteTime": {
     "end_time": "2025-06-27T21:35:04.845287Z",
     "start_time": "2025-06-27T21:35:04.829489Z"
    }
   },
   "cell_type": "code",
   "source": [
    "def crm_block(x):\n",
    "    edge = tf.image.sobel_edges(x)\n",
    "    edge_mean = tf.reduce_mean(edge, axis=-1, keepdims=True)\n",
    "    stat_mean = tf.reduce_mean(x, axis=[1, 2], keepdims=True)\n",
    "    stat_mean = tf.tile(stat_mean, [1, x.shape[1], x.shape[2], 1])\n",
    "    x_cat = layers.Concatenate(axis=-1)([edge_mean[..., 0], stat_mean])\n",
    "    attention = layers.Conv2D(x.shape[-1], (1, 1), activation='sigmoid')(x_cat)\n",
    "    return layers.Multiply()([x, attention])"
   ],
   "id": "b6d85beadb8d340b",
   "outputs": [],
   "execution_count": 15
  },
  {
   "metadata": {
    "ExecuteTime": {
     "end_time": "2025-06-27T21:35:04.878627Z",
     "start_time": "2025-06-27T21:35:04.862091Z"
    }
   },
   "cell_type": "code",
   "source": [
    "def build_model(input_shape=(224, 224, 3), num_classes=4, use_vit=False):\n",
    "    inp = Input(shape=input_shape)\n",
    "    base = DenseNet121(include_top=False, weights='imagenet', input_tensor=inp)\n",
    "    for layer in base.layers:\n",
    "        layer.trainable = False\n",
    "    x = base.output\n",
    "    x = cbam_block(x)\n",
    "    x = crm_block(x)\n",
    "    if use_vit:\n",
    "        B, H, W, C = tf.shape(x)[0], tf.shape(x)[1], tf.shape(x)[2], tf.shape(x)[3]\n",
    "        xflat = layers.Reshape((H * W, C))(x)\n",
    "        att = layers.MultiHeadAttention(num_heads=4, key_dim=C // 4)(xflat, xflat)\n",
    "        x = layers.GlobalAveragePooling1D()(att)\n",
    "    else:\n",
    "        x = layers.GlobalAveragePooling2D()(x)\n",
    "    x = layers.Dense(256, activation='relu')(x)\n",
    "    x = layers.Dropout(0.5)(x)\n",
    "    x = layers.Dense(128, activation='relu')(x)\n",
    "    x = layers.Dropout(0.5)(x)\n",
    "    out = layers.Dense(num_classes, activation='softmax')(x)\n",
    "    return Model(inputs=inp, outputs=out)"
   ],
   "id": "84f2c03d15f2f1f0",
   "outputs": [],
   "execution_count": 16
  },
  {
   "metadata": {
    "ExecuteTime": {
     "end_time": "2025-06-27T21:35:04.928477Z",
     "start_time": "2025-06-27T21:35:04.911899Z"
    }
   },
   "cell_type": "code",
   "source": [
    "def create_generators(train_dir, val_dir, test_dir, target_size=(224, 224), batch_size=32):\n",
    "    train_datagen = ImageDataGenerator(\n",
    "        rescale=1.0 / 255,\n",
    "        rotation_range=15,\n",
    "        width_shift_range=0.1,\n",
    "        height_shift_range=0.1,\n",
    "        zoom_range=0.2,\n",
    "        horizontal_flip=True,\n",
    "        brightness_range=[0.8, 1.2]\n",
    "    )\n",
    "    val_test_datagen = ImageDataGenerator(rescale=1.0 / 255)\n",
    "    train_generator = train_datagen.flow_from_directory(train_dir, target_size=target_size,\n",
    "                                                        batch_size=batch_size, class_mode='categorical')\n",
    "    val_generator = val_test_datagen.flow_from_directory(val_dir, target_size=target_size,\n",
    "                                                         batch_size=batch_size, class_mode='categorical')\n",
    "    test_generator = val_test_datagen.flow_from_directory(test_dir, target_size=target_size,\n",
    "                                                          batch_size=batch_size, class_mode='categorical', shuffle=False)\n",
    "    return train_generator, val_generator, test_generator"
   ],
   "id": "784dac061437cfa7",
   "outputs": [],
   "execution_count": 17
  },
  {
   "metadata": {
    "ExecuteTime": {
     "end_time": "2025-06-27T21:35:04.944398Z",
     "start_time": "2025-06-27T21:35:04.930373Z"
    }
   },
   "cell_type": "code",
   "source": [
    "def train_model(model, train_gen, val_gen, epochs=30):\n",
    "    model.compile(optimizer=AdamW(learning_rate=1e-3, weight_decay=1e-4),\n",
    "                  loss=SigmoidFocalCrossEntropy(),\n",
    "                  metrics=['accuracy'])\n",
    "    callbacks = [\n",
    "        EarlyStopping(patience=8, restore_best_weights=True),\n",
    "        ReduceLROnPlateau(patience=4, factor=0.5),\n",
    "        ModelCheckpoint(\"EyeNet_Latest_Model.h5\", save_best_only=True)\n",
    "    ]\n",
    "    return model.fit(train_gen, validation_data=val_gen, epochs=epochs, callbacks=callbacks)"
   ],
   "id": "fe4656e30b337203",
   "outputs": [],
   "execution_count": 18
  },
  {
   "metadata": {
    "ExecuteTime": {
     "end_time": "2025-06-27T21:35:04.967092Z",
     "start_time": "2025-06-27T21:35:04.962906Z"
    }
   },
   "cell_type": "code",
   "source": [
    "def fine_tune_model(model, train_gen, val_gen, epochs=10):\n",
    "    model.trainable = True\n",
    "    model.compile(optimizer=AdamW(learning_rate=1e-4, weight_decay=1e-5),\n",
    "                  loss=SigmoidFocalCrossEntropy(),\n",
    "                  metrics=['accuracy'])\n",
    "    return model.fit(train_gen, validation_data=val_gen, epochs=epochs)\n"
   ],
   "id": "9f331a6b60e0a2b0",
   "outputs": [],
   "execution_count": 19
  },
  {
   "metadata": {
    "ExecuteTime": {
     "end_time": "2025-06-27T21:35:04.994771Z",
     "start_time": "2025-06-27T21:35:04.980603Z"
    }
   },
   "cell_type": "code",
   "source": [
    "def evaluate_model(model, test_gen):\n",
    "    loss, acc = model.evaluate(test_gen)\n",
    "    print(f\"Test Accuracy: {acc * 100:.2f}%\")\n",
    "    y_true = test_gen.classes\n",
    "    y_pred = np.argmax(model.predict(test_gen), axis=1)\n",
    "    print(classification_report(y_true, y_pred, target_names=test_gen.class_indices.keys()))\n",
    "    cm = confusion_matrix(y_true, y_pred)\n",
    "    plt.imshow(cm, cmap='Blues'); plt.title(\"Confusion Matrix\"); plt.colorbar()\n",
    "    plt.xlabel(\"Predicted\"); plt.ylabel(\"Actual\")\n",
    "    plt.show()"
   ],
   "id": "d68ff42eafe41245",
   "outputs": [],
   "execution_count": 20
  },
  {
   "metadata": {
    "ExecuteTime": {
     "end_time": "2025-06-27T21:35:05.026717Z",
     "start_time": "2025-06-27T21:35:05.012774Z"
    }
   },
   "cell_type": "code",
   "source": [
    "def main():\n",
    "    set_seed()\n",
    "    base_dir = r'C:\\Users\\User\\Desktop\\dataset_split'\n",
    "    train_dir = os.path.join(base_dir, 'train')\n",
    "    val_dir = os.path.join(base_dir, 'val')\n",
    "    test_dir = os.path.join(base_dir, 'test')\n",
    "    train_gen, val_gen, test_gen = create_generators(train_dir, val_dir, test_dir)\n",
    "    model = build_model(use_vit=False)\n",
    "    train_model(model, train_gen, val_gen)\n",
    "    fine_tune_model(model, train_gen, val_gen)\n",
    "    evaluate_model(model, test_gen)\n",
    "    model.save(\"EyeNet_Model_2025_Enhanced.h5\")\n",
    "    print(\"Model saved.\")"
   ],
   "id": "b20bdfe2a6f9711d",
   "outputs": [],
   "execution_count": 21
  },
  {
   "metadata": {
    "ExecuteTime": {
     "end_time": "2025-06-27T22:04:29.578020Z",
     "start_time": "2025-06-27T21:35:05.046260Z"
    }
   },
   "cell_type": "code",
   "source": [
    "if __name__ == '__main__':\n",
    "    main()"
   ],
   "id": "83a56a6d78edc5b8",
   "outputs": [
    {
     "name": "stdout",
     "output_type": "stream",
     "text": [
      "Found 7490 images belonging to 4 classes.\n",
      "Found 1499 images belonging to 4 classes.\n",
      "Found 1000 images belonging to 4 classes.\n",
      "Epoch 1/30\n",
      "235/235 [==============================] - 45s 181ms/step - loss: 0.1629 - accuracy: 0.6105 - val_loss: 0.1097 - val_accuracy: 0.7738 - lr: 0.0010\n",
      "Epoch 2/30\n",
      "235/235 [==============================] - 43s 184ms/step - loss: 0.1129 - accuracy: 0.7721 - val_loss: 0.0912 - val_accuracy: 0.8192 - lr: 0.0010\n",
      "Epoch 3/30\n",
      "235/235 [==============================] - 43s 181ms/step - loss: 0.0960 - accuracy: 0.8160 - val_loss: 0.0810 - val_accuracy: 0.8492 - lr: 0.0010\n",
      "Epoch 4/30\n",
      "235/235 [==============================] - 41s 173ms/step - loss: 0.0834 - accuracy: 0.8406 - val_loss: 0.0726 - val_accuracy: 0.8699 - lr: 0.0010\n",
      "Epoch 5/30\n",
      "235/235 [==============================] - 40s 170ms/step - loss: 0.0738 - accuracy: 0.8614 - val_loss: 0.0675 - val_accuracy: 0.8646 - lr: 0.0010\n",
      "Epoch 6/30\n",
      "235/235 [==============================] - 40s 171ms/step - loss: 0.0677 - accuracy: 0.8786 - val_loss: 0.0628 - val_accuracy: 0.8879 - lr: 0.0010\n",
      "Epoch 7/30\n",
      "235/235 [==============================] - 40s 170ms/step - loss: 0.0599 - accuracy: 0.8877 - val_loss: 0.0738 - val_accuracy: 0.8706 - lr: 0.0010\n",
      "Epoch 8/30\n",
      "235/235 [==============================] - 40s 170ms/step - loss: 0.0570 - accuracy: 0.8969 - val_loss: 0.0607 - val_accuracy: 0.8973 - lr: 0.0010\n",
      "Epoch 9/30\n",
      "235/235 [==============================] - 44s 185ms/step - loss: 0.0522 - accuracy: 0.9126 - val_loss: 0.0677 - val_accuracy: 0.8839 - lr: 0.0010\n",
      "Epoch 10/30\n",
      "235/235 [==============================] - 44s 188ms/step - loss: 0.0474 - accuracy: 0.9156 - val_loss: 0.0645 - val_accuracy: 0.8993 - lr: 0.0010\n",
      "Epoch 11/30\n",
      "235/235 [==============================] - 45s 193ms/step - loss: 0.0461 - accuracy: 0.9211 - val_loss: 0.0524 - val_accuracy: 0.8999 - lr: 0.0010\n",
      "Epoch 12/30\n",
      "235/235 [==============================] - 44s 186ms/step - loss: 0.0425 - accuracy: 0.9263 - val_loss: 0.0450 - val_accuracy: 0.9239 - lr: 0.0010\n",
      "Epoch 13/30\n",
      "235/235 [==============================] - 43s 184ms/step - loss: 0.0386 - accuracy: 0.9307 - val_loss: 0.0539 - val_accuracy: 0.9106 - lr: 0.0010\n",
      "Epoch 14/30\n",
      "235/235 [==============================] - 43s 184ms/step - loss: 0.0372 - accuracy: 0.9366 - val_loss: 0.0476 - val_accuracy: 0.9159 - lr: 0.0010\n",
      "Epoch 15/30\n",
      "235/235 [==============================] - 45s 190ms/step - loss: 0.0385 - accuracy: 0.9382 - val_loss: 0.0490 - val_accuracy: 0.9093 - lr: 0.0010\n",
      "Epoch 16/30\n",
      "235/235 [==============================] - 45s 192ms/step - loss: 0.0359 - accuracy: 0.9393 - val_loss: 0.0666 - val_accuracy: 0.9046 - lr: 0.0010\n",
      "Epoch 17/30\n",
      "235/235 [==============================] - 44s 187ms/step - loss: 0.0266 - accuracy: 0.9565 - val_loss: 0.0505 - val_accuracy: 0.9293 - lr: 5.0000e-04\n",
      "Epoch 18/30\n",
      "235/235 [==============================] - 44s 188ms/step - loss: 0.0238 - accuracy: 0.9583 - val_loss: 0.0622 - val_accuracy: 0.9133 - lr: 5.0000e-04\n",
      "Epoch 19/30\n",
      "235/235 [==============================] - 43s 184ms/step - loss: 0.0252 - accuracy: 0.9582 - val_loss: 0.0409 - val_accuracy: 0.9426 - lr: 5.0000e-04\n",
      "Epoch 20/30\n",
      "235/235 [==============================] - 43s 184ms/step - loss: 0.0226 - accuracy: 0.9618 - val_loss: 0.0529 - val_accuracy: 0.9280 - lr: 5.0000e-04\n",
      "Epoch 21/30\n",
      "235/235 [==============================] - 44s 188ms/step - loss: 0.0213 - accuracy: 0.9632 - val_loss: 0.0395 - val_accuracy: 0.9433 - lr: 5.0000e-04\n",
      "Epoch 22/30\n",
      "235/235 [==============================] - 44s 188ms/step - loss: 0.0219 - accuracy: 0.9646 - val_loss: 0.0532 - val_accuracy: 0.9286 - lr: 5.0000e-04\n",
      "Epoch 23/30\n",
      "235/235 [==============================] - 44s 186ms/step - loss: 0.0219 - accuracy: 0.9640 - val_loss: 0.0397 - val_accuracy: 0.9406 - lr: 5.0000e-04\n",
      "Epoch 24/30\n",
      "235/235 [==============================] - 48s 203ms/step - loss: 0.0227 - accuracy: 0.9636 - val_loss: 0.0357 - val_accuracy: 0.9413 - lr: 5.0000e-04\n",
      "Epoch 25/30\n",
      "235/235 [==============================] - 46s 194ms/step - loss: 0.0211 - accuracy: 0.9669 - val_loss: 0.0366 - val_accuracy: 0.9406 - lr: 5.0000e-04\n",
      "Epoch 26/30\n",
      "235/235 [==============================] - 40s 172ms/step - loss: 0.0201 - accuracy: 0.9693 - val_loss: 0.0371 - val_accuracy: 0.9393 - lr: 5.0000e-04\n",
      "Epoch 27/30\n",
      "235/235 [==============================] - 40s 172ms/step - loss: 0.0184 - accuracy: 0.9693 - val_loss: 0.0403 - val_accuracy: 0.9426 - lr: 5.0000e-04\n",
      "Epoch 28/30\n",
      "235/235 [==============================] - 40s 171ms/step - loss: 0.0198 - accuracy: 0.9682 - val_loss: 0.0433 - val_accuracy: 0.9373 - lr: 5.0000e-04\n",
      "Epoch 29/30\n",
      "235/235 [==============================] - 40s 172ms/step - loss: 0.0154 - accuracy: 0.9762 - val_loss: 0.0419 - val_accuracy: 0.9453 - lr: 2.5000e-04\n",
      "Epoch 30/30\n",
      "235/235 [==============================] - 40s 172ms/step - loss: 0.0142 - accuracy: 0.9774 - val_loss: 0.0391 - val_accuracy: 0.9446 - lr: 2.5000e-04\n",
      "Epoch 1/10\n",
      "235/235 [==============================] - 50s 187ms/step - loss: 0.1022 - accuracy: 0.8578 - val_loss: 0.0561 - val_accuracy: 0.9206\n",
      "Epoch 2/10\n",
      "235/235 [==============================] - 47s 198ms/step - loss: 0.0374 - accuracy: 0.9406 - val_loss: 0.0351 - val_accuracy: 0.9406\n",
      "Epoch 3/10\n",
      "235/235 [==============================] - 47s 198ms/step - loss: 0.0277 - accuracy: 0.9591 - val_loss: 0.0208 - val_accuracy: 0.9633\n",
      "Epoch 4/10\n",
      "235/235 [==============================] - 47s 198ms/step - loss: 0.0200 - accuracy: 0.9686 - val_loss: 0.0290 - val_accuracy: 0.9560\n",
      "Epoch 5/10\n",
      "235/235 [==============================] - 47s 199ms/step - loss: 0.0162 - accuracy: 0.9761 - val_loss: 0.0412 - val_accuracy: 0.9520\n",
      "Epoch 6/10\n",
      "235/235 [==============================] - 47s 199ms/step - loss: 0.0178 - accuracy: 0.9729 - val_loss: 0.0248 - val_accuracy: 0.9533\n",
      "Epoch 7/10\n",
      "235/235 [==============================] - 47s 202ms/step - loss: 0.0177 - accuracy: 0.9746 - val_loss: 0.0313 - val_accuracy: 0.9646\n",
      "Epoch 8/10\n",
      "235/235 [==============================] - 47s 198ms/step - loss: 0.0156 - accuracy: 0.9802 - val_loss: 0.0204 - val_accuracy: 0.9780\n",
      "Epoch 9/10\n",
      "235/235 [==============================] - 47s 199ms/step - loss: 0.0141 - accuracy: 0.9810 - val_loss: 0.0190 - val_accuracy: 0.9760\n",
      "Epoch 10/10\n",
      "235/235 [==============================] - 47s 200ms/step - loss: 0.0098 - accuracy: 0.9862 - val_loss: 0.0215 - val_accuracy: 0.9733\n",
      "32/32 [==============================] - 2s 48ms/step - loss: 0.0292 - accuracy: 0.9660\n",
      "Test Accuracy: 96.60%\n",
      "32/32 [==============================] - 2s 37ms/step\n",
      "                precision    recall  f1-score   support\n",
      "\n",
      "      Cataract       0.98      0.97      0.97       250\n",
      "Conjunctivitis       0.96      0.99      0.98       250\n",
      "        Normal       0.94      0.99      0.96       250\n",
      "          Stye       0.98      0.92      0.95       250\n",
      "\n",
      "      accuracy                           0.97      1000\n",
      "     macro avg       0.97      0.97      0.97      1000\n",
      "  weighted avg       0.97      0.97      0.97      1000\n",
      "\n"
     ]
    },
    {
     "data": {
      "text/plain": [
       "<Figure size 640x480 with 2 Axes>"
      ],
      "image/png": "[encoded data removed]"
     },
     "metadata": {},
     "output_type": "display_data"
    },
    {
     "name": "stdout",
     "output_type": "stream",
     "text": [
      "Model saved.\n"
     ]
    }
   ],
   "execution_count": 22
  }
 ],
 "metadata": {
  "kernelspec": {
   "display_name": "Python 3",
   "language": "python",
   "name": "python3"
  },
  "language_info": {
   "codemirror_mode": {
    "name": "ipython",
    "version": 2
   },
   "file_extension": ".py",
   "mimetype": "text/x-python",
   "name": "python",
   "nbconvert_exporter": "python",
   "pygments_lexer": "ipython2",
   "version": "2.7.6"
  }
 },
 "nbformat": 4,
 "nbformat_minor": 5
}
