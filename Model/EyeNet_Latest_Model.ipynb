{
 "cells": [
  {
   "cell_type": "code",
   "id": "initial_id",
   "metadata": {
    "collapsed": true,
    "ExecuteTime": {
     "end_time": "2025-06-27T21:00:28.048170Z",
     "start_time": "2025-06-27T21:00:28.034845Z"
    }
   },
   "source": [
    "import os\n",
    "import random\n",
    "import numpy as np\n",
    "import tensorflow as tf\n",
    "import cv2\n",
    "import matplotlib.pyplot as plt\n",
    "from tensorflow.keras import layers, Model, Input\n",
    "from tensorflow.keras.applications import DenseNet121\n",
    "from tensorflow.keras.preprocessing.image import ImageDataGenerator\n",
    "from tensorflow.keras.callbacks import EarlyStopping, ReduceLROnPlateau, ModelCheckpoint\n",
    "from tensorflow_addons.optimizers import AdamW\n",
    "from tensorflow_addons.losses import SigmoidFocalCrossEntropy\n",
    "from sklearn.metrics import classification_report, confusion_matrix"
   ],
   "outputs": [],
   "execution_count": 18
  },
  {
   "metadata": {
    "ExecuteTime": {
     "end_time": "2025-06-27T20:57:28.816603Z",
     "start_time": "2025-06-27T20:57:28.801029Z"
    }
   },
   "cell_type": "code",
   "source": [
    "import tensorflow as tf\n",
    "print(\"TensorFlow version:\", tf.__version__)"
   ],
   "id": "476d9dbe499b9a65",
   "outputs": [
    {
     "name": "stdout",
     "output_type": "stream",
     "text": [
      "TensorFlow version: 2.9.0\n"
     ]
    }
   ],
   "execution_count": 3
  },
  {
   "metadata": {
    "ExecuteTime": {
     "end_time": "2025-06-27T21:00:29.964453Z",
     "start_time": "2025-06-27T21:00:29.953453Z"
    }
   },
   "cell_type": "code",
   "source": [
    "def set_seed(seed=42):\n",
    "    random.seed(seed)\n",
    "    np.random.seed(seed)\n",
    "    tf.random.set_seed(seed)"
   ],
   "id": "af2d5a6b52a3ef8c",
   "outputs": [],
   "execution_count": 19
  },
  {
   "metadata": {
    "ExecuteTime": {
     "end_time": "2025-06-27T21:00:30.765744Z",
     "start_time": "2025-06-27T21:00:30.754547Z"
    }
   },
   "cell_type": "code",
   "source": [
    "def split_data(source_dir, train_dir, val_dir, test_dir, train_ratio, validation_ratio):\n",
    "    test_ratio = 1 - train_ratio - validation_ratio\n",
    "    for category in os.listdir(source_dir):\n",
    "        category_path = os.path.join(source_dir, category)\n",
    "        if not os.path.isdir(category_path):\n",
    "            continue\n",
    "        os.makedirs(os.path.join(train_dir, category), exist_ok=True)\n",
    "        os.makedirs(os.path.join(val_dir, category), exist_ok=True)\n",
    "        os.makedirs(os.path.join(test_dir, category), exist_ok=True)\n",
    "\n",
    "        images = os.listdir(category_path)\n",
    "        random.shuffle(images)\n",
    "        total_images = len(images)\n",
    "        train_count = int(total_images * train_ratio)\n",
    "        val_count = int(total_images * validation_ratio)\n",
    "        train_images = images[:train_count]\n",
    "        val_images = images[train_count:train_count + val_count]\n",
    "        test_images = images[train_count + val_count:]\n",
    "\n",
    "        for image in train_images:\n",
    "            shutil.copy(os.path.join(category_path, image), os.path.join(train_dir, category, image))\n",
    "        for image in val_images:\n",
    "            shutil.copy(os.path.join(category_path, image), os.path.join(val_dir, category, image))\n",
    "        for image in test_images:\n",
    "            shutil.copy(os.path.join(category_path, image), os.path.join(test_dir, category, image))"
   ],
   "id": "5c6deabebb399e91",
   "outputs": [],
   "execution_count": 20
  },
  {
   "metadata": {
    "ExecuteTime": {
     "end_time": "2025-06-27T21:00:32.949578Z",
     "start_time": "2025-06-27T21:00:32.935774Z"
    }
   },
   "cell_type": "code",
   "source": [
    "def create_generators(train_dir, val_dir, test_dir, target_size=(224, 224), batch_size=32):\n",
    "    train_datagen = ImageDataGenerator(\n",
    "        rescale=1.0 / 255,\n",
    "        rotation_range=15,\n",
    "        width_shift_range=0.1,\n",
    "        height_shift_range=0.1,\n",
    "        zoom_range=0.2,\n",
    "        horizontal_flip=True,\n",
    "        brightness_range=[0.8, 1.2]\n",
    "    )\n",
    "    val_test_datagen = ImageDataGenerator(rescale=1.0 / 255)\n",
    "    train_generator = train_datagen.flow_from_directory(train_dir, target_size=target_size,\n",
    "                                                        batch_size=batch_size, class_mode='categorical')\n",
    "    val_generator = val_test_datagen.flow_from_directory(val_dir, target_size=target_size,\n",
    "                                                         batch_size=batch_size, class_mode='categorical')\n",
    "    test_generator = val_test_datagen.flow_from_directory(test_dir, target_size=target_size,\n",
    "                                                          batch_size=batch_size, class_mode='categorical', shuffle=False)\n",
    "    return train_generator, val_generator, test_generator"
   ],
   "id": "799c9f9b01921c22",
   "outputs": [],
   "execution_count": 21
  },
  {
   "metadata": {
    "ExecuteTime": {
     "end_time": "2025-06-27T21:00:34.031104Z",
     "start_time": "2025-06-27T21:00:34.025105Z"
    }
   },
   "cell_type": "code",
   "source": [
    "def cbam_block(inputs, reduction=16):\n",
    "    # Channel Attention\n",
    "    avg_pool = layers.GlobalAveragePooling2D()(inputs)\n",
    "    max_pool = layers.GlobalMaxPooling2D()(inputs)\n",
    "    shared_dense = layers.Dense(inputs.shape[-1] // reduction, activation='relu')\n",
    "    avg_out = shared_dense(avg_pool)\n",
    "    max_out = shared_dense(max_pool)\n",
    "    channel = layers.Add()([avg_out, max_out])\n",
    "    channel = layers.Dense(inputs.shape[-1], activation='sigmoid')(channel)\n",
    "    channel = layers.Reshape((1, 1, inputs.shape[-1]))(channel)\n",
    "    x = layers.Multiply()([inputs, channel])\n",
    "    # Spatial Attention\n",
    "    avg_spatial = tf.reduce_mean(x, axis=-1, keepdims=True)\n",
    "    max_spatial = tf.reduce_max(x, axis=-1, keepdims=True)\n",
    "    concat = layers.Concatenate(axis=-1)([avg_spatial, max_spatial])\n",
    "    spatial = layers.Conv2D(1, (7, 7), padding='same', activation='sigmoid')(concat)\n",
    "    return layers.Multiply()([x, spatial])"
   ],
   "id": "5dfaa19768433c99",
   "outputs": [],
   "execution_count": 22
  },
  {
   "metadata": {
    "ExecuteTime": {
     "end_time": "2025-06-27T20:58:33.346493Z",
     "start_time": "2025-06-27T20:58:33.343492Z"
    }
   },
   "cell_type": "code",
   "source": [
    "def crm_block(x):\n",
    "    edge = tf.image.sobel_edges(x)\n",
    "    edge_mean = tf.reduce_mean(edge, axis=-1, keepdims=True)\n",
    "    stat_mean = tf.reduce_mean(x, axis=[1, 2], keepdims=True)\n",
    "    stat_mean = tf.tile(stat_mean, [1, x.shape[1], x.shape[2], 1])\n",
    "    x_cat = layers.Concatenate(axis=-1)([edge_mean[..., 0], stat_mean])\n",
    "    attention = layers.Conv2D(x.shape[-1], (1, 1), activation='sigmoid')(x_cat)\n",
    "    return layers.Multiply()([x, attention])"
   ],
   "id": "d1eeeb6638f013f7",
   "outputs": [],
   "execution_count": 9
  },
  {
   "metadata": {
    "ExecuteTime": {
     "end_time": "2025-06-27T20:58:34.657665Z",
     "start_time": "2025-06-27T20:58:34.646619Z"
    }
   },
   "cell_type": "code",
   "source": [
    "def build_model(input_shape=(224, 224, 3), num_classes=4):\n",
    "    base = DenseNet121(include_top=False, weights='imagenet', input_shape=input_shape)\n",
    "    base.trainable = False\n",
    "    x = base.output\n",
    "    x = cbam_block(x)\n",
    "    x = crm_block(x)\n",
    "    x = layers.GlobalAveragePooling2D()(x)\n",
    "    x = layers.Dense(256, activation='relu')(x)\n",
    "    x = layers.Dropout(0.5)(x)\n",
    "    x = layers.Dense(128, activation='relu')(x)\n",
    "    x = layers.Dropout(0.5)(x)\n",
    "    outputs = layers.Dense(num_classes, activation='softmax')(x)\n",
    "    model = Model(inputs=base.input, outputs=outputs)\n",
    "    return model"
   ],
   "id": "b653281972d10294",
   "outputs": [],
   "execution_count": 10
  },
  {
   "metadata": {
    "ExecuteTime": {
     "end_time": "2025-06-27T20:58:39.382670Z",
     "start_time": "2025-06-27T20:58:39.374417Z"
    }
   },
   "cell_type": "code",
   "source": [
    "def train_model(model, train_gen, val_gen, epochs=30):\n",
    "    model.compile(optimizer=AdamW(learning_rate=1e-4, weight_decay=1e-4),\n",
    "                  loss=SigmoidFocalCrossEntropy(),\n",
    "                  metrics=['accuracy'])\n",
    "    callbacks = [\n",
    "        EarlyStopping(patience=8, restore_best_weights=True),\n",
    "        ReduceLROnPlateau(patience=4, factor=0.5),\n",
    "        ModelCheckpoint(\"EyeNet_Latest_Model.h5\", save_best_only=True)\n",
    "    ]\n",
    "    return model.fit(train_gen, validation_data=val_gen, epochs=epochs, callbacks=callbacks)"
   ],
   "id": "79c6feac179708c9",
   "outputs": [],
   "execution_count": 11
  },
  {
   "metadata": {
    "ExecuteTime": {
     "end_time": "2025-06-27T20:58:41.016056Z",
     "start_time": "2025-06-27T20:58:41.000753Z"
    }
   },
   "cell_type": "code",
   "source": [
    "def fine_tune_model(model, train_gen, val_gen, epochs=10):\n",
    "    model.trainable = True\n",
    "    model.compile(optimizer=AdamW(learning_rate=1e-5, weight_decay=1e-5),\n",
    "                  loss=SigmoidFocalCrossEntropy(),\n",
    "                  metrics=['accuracy'])\n",
    "    return model.fit(train_gen, validation_data=val_gen, epochs=epochs)"
   ],
   "id": "5a171779d7427e76",
   "outputs": [],
   "execution_count": 12
  },
  {
   "metadata": {
    "ExecuteTime": {
     "end_time": "2025-06-27T20:58:42.466251Z",
     "start_time": "2025-06-27T20:58:42.451020Z"
    }
   },
   "cell_type": "code",
   "source": [
    "def evaluate_model(model, test_gen):\n",
    "    loss, acc = model.evaluate(test_gen)\n",
    "    print(f\"Test Accuracy: {acc * 100:.2f}%\")\n",
    "    y_true = test_gen.classes\n",
    "    y_pred = np.argmax(model.predict(test_gen), axis=1)\n",
    "    print(classification_report(y_true, y_pred, target_names=test_gen.class_indices.keys()))\n",
    "    cm = confusion_matrix(y_true, y_pred)\n",
    "    plt.imshow(cm, cmap='Blues'); plt.title(\"Confusion Matrix\"); plt.colorbar()\n",
    "    plt.xlabel(\"Predicted\"); plt.ylabel(\"Actual\")\n",
    "    plt.show()"
   ],
   "id": "ed675568ca0a3e26",
   "outputs": [],
   "execution_count": 13
  },
  {
   "metadata": {
    "ExecuteTime": {
     "end_time": "2025-06-27T20:59:00.099730Z",
     "start_time": "2025-06-27T20:59:00.087627Z"
    }
   },
   "cell_type": "code",
   "source": [
    "def main():\n",
    "    set_seed()\n",
    "    base_dir = r'C:\\Users\\User\\Desktop\\dataset_split'\n",
    "    train_dir = os.path.join(base_dir, 'train')\n",
    "    val_dir = os.path.join(base_dir, 'val')\n",
    "    test_dir = os.path.join(base_dir, 'test')\n",
    "    train_gen, val_gen, test_gen = create_generators(train_dir, val_dir, test_dir)\n",
    "    model = build_model()\n",
    "    train_model(model, train_gen, val_gen)\n",
    "    fine_tune_model(model, train_gen, val_gen)\n",
    "    evaluate_model(model, test_gen)\n",
    "    model.save(\"EyeNet_Model.h5\")\n",
    "    print(\"Model saved.\")"
   ],
   "id": "9f646fde511d8ab5",
   "outputs": [],
   "execution_count": 16
  },
  {
   "metadata": {
    "ExecuteTime": {
     "end_time": "2025-06-27T21:29:33.912157Z",
     "start_time": "2025-06-27T21:00:37.522136Z"
    }
   },
   "cell_type": "code",
   "source": [
    "if __name__ == '__main__':\n",
    "    main()"
   ],
   "id": "76e3ecdd2954b6d5",
   "outputs": [
    {
     "name": "stdout",
     "output_type": "stream",
     "text": [
      "Found 7490 images belonging to 4 classes.\n",
      "Found 1499 images belonging to 4 classes.\n",
      "Found 1000 images belonging to 4 classes.\n",
      "Epoch 1/30\n",
      "235/235 [==============================] - 75s 309ms/step - loss: 0.2134 - accuracy: 0.4270 - val_loss: 0.1493 - val_accuracy: 0.6778 - lr: 1.0000e-04\n",
      "Epoch 2/30\n",
      "235/235 [==============================] - 43s 182ms/step - loss: 0.1518 - accuracy: 0.6622 - val_loss: 0.1179 - val_accuracy: 0.7498 - lr: 1.0000e-04\n",
      "Epoch 3/30\n",
      "235/235 [==============================] - 44s 186ms/step - loss: 0.1258 - accuracy: 0.7382 - val_loss: 0.1043 - val_accuracy: 0.7932 - lr: 1.0000e-04\n",
      "Epoch 4/30\n",
      "235/235 [==============================] - 40s 168ms/step - loss: 0.1139 - accuracy: 0.7678 - val_loss: 0.0947 - val_accuracy: 0.8192 - lr: 1.0000e-04\n",
      "Epoch 5/30\n",
      "235/235 [==============================] - 40s 169ms/step - loss: 0.1021 - accuracy: 0.7999 - val_loss: 0.0863 - val_accuracy: 0.8359 - lr: 1.0000e-04\n",
      "Epoch 6/30\n",
      "235/235 [==============================] - 40s 169ms/step - loss: 0.0942 - accuracy: 0.8126 - val_loss: 0.0851 - val_accuracy: 0.8399 - lr: 1.0000e-04\n",
      "Epoch 7/30\n",
      "235/235 [==============================] - 40s 169ms/step - loss: 0.0891 - accuracy: 0.8275 - val_loss: 0.0795 - val_accuracy: 0.8572 - lr: 1.0000e-04\n",
      "Epoch 8/30\n",
      "235/235 [==============================] - 40s 169ms/step - loss: 0.0844 - accuracy: 0.8406 - val_loss: 0.0778 - val_accuracy: 0.8566 - lr: 1.0000e-04\n",
      "Epoch 9/30\n",
      "235/235 [==============================] - 40s 171ms/step - loss: 0.0795 - accuracy: 0.8539 - val_loss: 0.0762 - val_accuracy: 0.8619 - lr: 1.0000e-04\n",
      "Epoch 10/30\n",
      "235/235 [==============================] - 44s 186ms/step - loss: 0.0740 - accuracy: 0.8586 - val_loss: 0.0704 - val_accuracy: 0.8712 - lr: 1.0000e-04\n",
      "Epoch 11/30\n",
      "235/235 [==============================] - 44s 187ms/step - loss: 0.0724 - accuracy: 0.8665 - val_loss: 0.0699 - val_accuracy: 0.8686 - lr: 1.0000e-04\n",
      "Epoch 12/30\n",
      "235/235 [==============================] - 43s 185ms/step - loss: 0.0690 - accuracy: 0.8730 - val_loss: 0.0708 - val_accuracy: 0.8753 - lr: 1.0000e-04\n",
      "Epoch 13/30\n",
      "235/235 [==============================] - 44s 187ms/step - loss: 0.0637 - accuracy: 0.8844 - val_loss: 0.0688 - val_accuracy: 0.8766 - lr: 1.0000e-04\n",
      "Epoch 14/30\n",
      "235/235 [==============================] - 49s 207ms/step - loss: 0.0650 - accuracy: 0.8842 - val_loss: 0.0647 - val_accuracy: 0.8839 - lr: 1.0000e-04\n",
      "Epoch 15/30\n",
      "235/235 [==============================] - 42s 177ms/step - loss: 0.0619 - accuracy: 0.8884 - val_loss: 0.0627 - val_accuracy: 0.8853 - lr: 1.0000e-04\n",
      "Epoch 16/30\n",
      "235/235 [==============================] - 40s 171ms/step - loss: 0.0589 - accuracy: 0.8921 - val_loss: 0.0605 - val_accuracy: 0.8926 - lr: 1.0000e-04\n",
      "Epoch 17/30\n",
      "235/235 [==============================] - 44s 187ms/step - loss: 0.0540 - accuracy: 0.9067 - val_loss: 0.0646 - val_accuracy: 0.8906 - lr: 1.0000e-04\n",
      "Epoch 18/30\n",
      "235/235 [==============================] - 43s 183ms/step - loss: 0.0538 - accuracy: 0.9017 - val_loss: 0.0607 - val_accuracy: 0.8939 - lr: 1.0000e-04\n",
      "Epoch 19/30\n",
      "235/235 [==============================] - 41s 174ms/step - loss: 0.0517 - accuracy: 0.9056 - val_loss: 0.0573 - val_accuracy: 0.9006 - lr: 1.0000e-04\n",
      "Epoch 20/30\n",
      "235/235 [==============================] - 44s 189ms/step - loss: 0.0509 - accuracy: 0.9073 - val_loss: 0.0606 - val_accuracy: 0.8993 - lr: 1.0000e-04\n",
      "Epoch 21/30\n",
      "235/235 [==============================] - 44s 186ms/step - loss: 0.0496 - accuracy: 0.9134 - val_loss: 0.0524 - val_accuracy: 0.9073 - lr: 1.0000e-04\n",
      "Epoch 22/30\n",
      "235/235 [==============================] - 44s 187ms/step - loss: 0.0472 - accuracy: 0.9178 - val_loss: 0.0592 - val_accuracy: 0.8993 - lr: 1.0000e-04\n",
      "Epoch 23/30\n",
      "235/235 [==============================] - 45s 192ms/step - loss: 0.0469 - accuracy: 0.9196 - val_loss: 0.0563 - val_accuracy: 0.9073 - lr: 1.0000e-04\n",
      "Epoch 24/30\n",
      "235/235 [==============================] - 45s 192ms/step - loss: 0.0440 - accuracy: 0.9232 - val_loss: 0.0505 - val_accuracy: 0.9193 - lr: 1.0000e-04\n",
      "Epoch 25/30\n",
      "235/235 [==============================] - 41s 173ms/step - loss: 0.0446 - accuracy: 0.9274 - val_loss: 0.0522 - val_accuracy: 0.9139 - lr: 1.0000e-04\n",
      "Epoch 26/30\n",
      "235/235 [==============================] - 40s 169ms/step - loss: 0.0407 - accuracy: 0.9294 - val_loss: 0.0573 - val_accuracy: 0.9073 - lr: 1.0000e-04\n",
      "Epoch 27/30\n",
      "235/235 [==============================] - 40s 172ms/step - loss: 0.0404 - accuracy: 0.9308 - val_loss: 0.0528 - val_accuracy: 0.9153 - lr: 1.0000e-04\n",
      "Epoch 28/30\n",
      "235/235 [==============================] - 41s 173ms/step - loss: 0.0394 - accuracy: 0.9326 - val_loss: 0.0608 - val_accuracy: 0.9073 - lr: 1.0000e-04\n",
      "Epoch 29/30\n",
      "235/235 [==============================] - 41s 175ms/step - loss: 0.0349 - accuracy: 0.9413 - val_loss: 0.0469 - val_accuracy: 0.9199 - lr: 5.0000e-05\n",
      "Epoch 30/30\n",
      "235/235 [==============================] - 44s 186ms/step - loss: 0.0353 - accuracy: 0.9439 - val_loss: 0.0488 - val_accuracy: 0.9206 - lr: 5.0000e-05\n",
      "Epoch 1/10\n",
      "235/235 [==============================] - 51s 187ms/step - loss: 0.1195 - accuracy: 0.7820 - val_loss: 0.0715 - val_accuracy: 0.8739\n",
      "Epoch 2/10\n",
      "235/235 [==============================] - 42s 180ms/step - loss: 0.0696 - accuracy: 0.8736 - val_loss: 0.0594 - val_accuracy: 0.8993\n",
      "Epoch 3/10\n",
      "235/235 [==============================] - 41s 174ms/step - loss: 0.0535 - accuracy: 0.9061 - val_loss: 0.0436 - val_accuracy: 0.9280\n",
      "Epoch 4/10\n",
      "235/235 [==============================] - 41s 175ms/step - loss: 0.0438 - accuracy: 0.9236 - val_loss: 0.0353 - val_accuracy: 0.9360\n",
      "Epoch 5/10\n",
      "235/235 [==============================] - 41s 176ms/step - loss: 0.0371 - accuracy: 0.9360 - val_loss: 0.0342 - val_accuracy: 0.9386\n",
      "Epoch 6/10\n",
      "235/235 [==============================] - 41s 176ms/step - loss: 0.0312 - accuracy: 0.9494 - val_loss: 0.0281 - val_accuracy: 0.9546\n",
      "Epoch 7/10\n",
      "235/235 [==============================] - 41s 175ms/step - loss: 0.0277 - accuracy: 0.9549 - val_loss: 0.0271 - val_accuracy: 0.9546\n",
      "Epoch 8/10\n",
      "235/235 [==============================] - 42s 176ms/step - loss: 0.0235 - accuracy: 0.9625 - val_loss: 0.0257 - val_accuracy: 0.9606\n",
      "Epoch 9/10\n",
      "235/235 [==============================] - 41s 176ms/step - loss: 0.0221 - accuracy: 0.9660 - val_loss: 0.0234 - val_accuracy: 0.9600\n",
      "Epoch 10/10\n",
      "235/235 [==============================] - 43s 181ms/step - loss: 0.0180 - accuracy: 0.9717 - val_loss: 0.0226 - val_accuracy: 0.9646\n",
      "32/32 [==============================] - 4s 135ms/step - loss: 0.0251 - accuracy: 0.9650\n",
      "Test Accuracy: 96.50%\n",
      "32/32 [==============================] - 2s 32ms/step\n",
      "                precision    recall  f1-score   support\n",
      "\n",
      "      Cataract       0.98      0.95      0.97       250\n",
      "Conjunctivitis       0.96      0.99      0.97       250\n",
      "        Normal       0.95      0.98      0.96       250\n",
      "          Stye       0.97      0.95      0.96       250\n",
      "\n",
      "      accuracy                           0.96      1000\n",
      "     macro avg       0.97      0.96      0.96      1000\n",
      "  weighted avg       0.97      0.96      0.96      1000\n",
      "\n"
     ]
    },
    {
     "data": {
      "text/plain": [
       "<Figure size 640x480 with 2 Axes>"
      ],
      "image/png": "[encoded data removed]"
     },
     "metadata": {},
     "output_type": "display_data"
    },
    {
     "name": "stdout",
     "output_type": "stream",
     "text": [
      "Model saved.\n"
     ]
    }
   ],
   "execution_count": 23
  }
 ],
 "metadata": {
  "kernelspec": {
   "display_name": "Python 3",
   "language": "python",
   "name": "python3"
  },
  "language_info": {
   "codemirror_mode": {
    "name": "ipython",
    "version": 2
   },
   "file_extension": ".py",
   "mimetype": "text/x-python",
   "name": "python",
   "nbconvert_exporter": "python",
   "pygments_lexer": "ipython2",
   "version": "2.7.6"
  }
 },
 "nbformat": 4,
 "nbformat_minor": 5
}
