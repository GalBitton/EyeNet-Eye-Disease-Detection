{
 "cells": [
  {
   "cell_type": "code",
   "id": "initial_id",
   "metadata": {
    "collapsed": true,
    "ExecuteTime": {
     "end_time": "2025-07-05T07:37:56.175616Z",
     "start_time": "2025-07-05T07:37:55.691375Z"
    }
   },
   "source": [
    "import os\n",
    "import random\n",
    "import numpy as np\n",
    "import matplotlib.pyplot as plt\n",
    "from tensorflow.keras import layers, Model\n",
    "from tensorflow.keras.applications import DenseNet121\n",
    "from tensorflow.keras.preprocessing.image import ImageDataGenerator\n",
    "from tensorflow.keras.callbacks import EarlyStopping, ReduceLROnPlateau, ModelCheckpoint\n",
    "from tensorflow_addons.optimizers import AdamW\n",
    "from tensorflow_addons.losses import SigmoidFocalCrossEntropy\n",
    "from sklearn.metrics import classification_report, confusion_matrix\n",
    "import shutil"
   ],
   "outputs": [
    {
     "name": "stderr",
     "output_type": "stream",
     "text": [
      "C:\\Users\\User\\anaconda3\\envs\\Analeyes\\lib\\site-packages\\tensorflow_addons\\utils\\tfa_eol_msg.py:23: UserWarning: \n",
      "\n",
      "TensorFlow Addons (TFA) has ended development and introduction of new features.\n",
      "TFA has entered a minimal maintenance and release mode until a planned end of life in May 2024.\n",
      "Please modify downstream libraries to take dependencies from other repositories in our TensorFlow community (e.g. Keras, Keras-CV, and Keras-NLP). \n",
      "\n",
      "For more information see: https://github.com/tensorflow/addons/issues/2807 \n",
      "\n",
      "  warnings.warn(\n",
      "C:\\Users\\User\\anaconda3\\envs\\Analeyes\\lib\\site-packages\\tensorflow_addons\\utils\\ensure_tf_install.py:53: UserWarning: Tensorflow Addons supports using Python ops for all Tensorflow versions above or equal to 2.12.0 and strictly below 2.15.0 (nightly versions are not supported). \n",
      " The versions of TensorFlow you are currently using is 2.9.0 and is not supported. \n",
      "Some things might work, some things might not.\n",
      "If you were to encounter a bug, do not file an issue.\n",
      "If you want to make sure you're using a tested and supported configuration, either change the TensorFlow version or the TensorFlow Addons's version. \n",
      "You can find the compatibility matrix in TensorFlow Addon's readme:\n",
      "https://github.com/tensorflow/addons\n",
      "  warnings.warn(\n"
     ]
    }
   ],
   "execution_count": 8
  },
  {
   "metadata": {
    "ExecuteTime": {
     "end_time": "2025-07-05T07:37:57.991792Z",
     "start_time": "2025-07-05T07:37:57.975995Z"
    }
   },
   "cell_type": "code",
   "source": [
    "import tensorflow as tf\n",
    "print(\"TensorFlow version:\", tf.__version__)"
   ],
   "id": "476d9dbe499b9a65",
   "outputs": [
    {
     "name": "stdout",
     "output_type": "stream",
     "text": [
      "TensorFlow version: 2.9.0\n"
     ]
    }
   ],
   "execution_count": 9
  },
  {
   "metadata": {
    "ExecuteTime": {
     "end_time": "2025-07-05T07:37:59.687969Z",
     "start_time": "2025-07-05T07:37:59.672256Z"
    }
   },
   "cell_type": "code",
   "source": [
    "def set_seed(seed=42):\n",
    "    random.seed(seed)\n",
    "    np.random.seed(seed)\n",
    "    tf.random.set_seed(seed)"
   ],
   "id": "af2d5a6b52a3ef8c",
   "outputs": [],
   "execution_count": 10
  },
  {
   "metadata": {
    "ExecuteTime": {
     "end_time": "2025-07-05T07:38:01.068966Z",
     "start_time": "2025-07-05T07:38:01.037328Z"
    }
   },
   "cell_type": "code",
   "source": [
    "def split_data(source_dir, train_dir, val_dir, test_dir, train_ratio, validation_ratio):\n",
    "    test_ratio = 1 - train_ratio - validation_ratio\n",
    "    for category in os.listdir(source_dir):\n",
    "        category_path = os.path.join(source_dir, category)\n",
    "        if not os.path.isdir(category_path):\n",
    "            continue\n",
    "        os.makedirs(os.path.join(train_dir, category), exist_ok=True)\n",
    "        os.makedirs(os.path.join(val_dir, category), exist_ok=True)\n",
    "        os.makedirs(os.path.join(test_dir, category), exist_ok=True)\n",
    "\n",
    "        images = os.listdir(category_path)\n",
    "        random.shuffle(images)\n",
    "        total_images = len(images)\n",
    "        train_count = int(total_images * train_ratio)\n",
    "        val_count = int(total_images * validation_ratio)\n",
    "        train_images = images[:train_count]\n",
    "        val_images = images[train_count:train_count + val_count]\n",
    "        test_images = images[train_count + val_count:]\n",
    "\n",
    "        for image in train_images:\n",
    "            shutil.copy(os.path.join(category_path, image), os.path.join(train_dir, category, image))\n",
    "        for image in val_images:\n",
    "            shutil.copy(os.path.join(category_path, image), os.path.join(val_dir, category, image))\n",
    "        for image in test_images:\n",
    "            shutil.copy(os.path.join(category_path, image), os.path.join(test_dir, category, image))"
   ],
   "id": "5c6deabebb399e91",
   "outputs": [],
   "execution_count": 11
  },
  {
   "metadata": {
    "ExecuteTime": {
     "end_time": "2025-07-05T07:38:02.668035Z",
     "start_time": "2025-07-05T07:38:02.654191Z"
    }
   },
   "cell_type": "code",
   "source": [
    "def create_generators(train_dir, val_dir, test_dir, target_size=(320, 320), batch_size=16):\n",
    "    train_datagen = ImageDataGenerator(\n",
    "        rescale=1.0 / 255,\n",
    "        rotation_range=15,\n",
    "        width_shift_range=0.1,\n",
    "        height_shift_range=0.1,\n",
    "        zoom_range=0.2,\n",
    "        horizontal_flip=True,\n",
    "        brightness_range=[0.8, 1.2]\n",
    "    )\n",
    "    val_test_datagen = ImageDataGenerator(rescale=1.0 / 255)\n",
    "    train_generator = train_datagen.flow_from_directory(train_dir, target_size=target_size,\n",
    "                                                        batch_size=batch_size, class_mode='categorical')\n",
    "    val_generator = val_test_datagen.flow_from_directory(val_dir, target_size=target_size,\n",
    "                                                         batch_size=batch_size, class_mode='categorical')\n",
    "    test_generator = val_test_datagen.flow_from_directory(test_dir, target_size=target_size,\n",
    "                                                          batch_size=batch_size, class_mode='categorical', shuffle=False)\n",
    "    return train_generator, val_generator, test_generator"
   ],
   "id": "799c9f9b01921c22",
   "outputs": [],
   "execution_count": 12
  },
  {
   "metadata": {
    "ExecuteTime": {
     "end_time": "2025-07-05T07:38:04.038466Z",
     "start_time": "2025-07-05T07:38:04.006449Z"
    }
   },
   "cell_type": "code",
   "source": [
    "def cbam_block(inputs, reduction=16):\n",
    "    # Channel Attention\n",
    "    avg_pool = layers.GlobalAveragePooling2D()(inputs)\n",
    "    max_pool = layers.GlobalMaxPooling2D()(inputs)\n",
    "    shared_dense = layers.Dense(inputs.shape[-1] // reduction, activation='relu')\n",
    "    avg_out = shared_dense(avg_pool)\n",
    "    max_out = shared_dense(max_pool)\n",
    "    channel = layers.Add()([avg_out, max_out])\n",
    "    channel = layers.Dense(inputs.shape[-1], activation='sigmoid')(channel)\n",
    "    channel = layers.Reshape((1, 1, inputs.shape[-1]))(channel)\n",
    "    x = layers.Multiply()([inputs, channel])\n",
    "    # Spatial Attention\n",
    "    avg_spatial = tf.reduce_mean(x, axis=-1, keepdims=True)\n",
    "    max_spatial = tf.reduce_max(x, axis=-1, keepdims=True)\n",
    "    concat = layers.Concatenate(axis=-1)([avg_spatial, max_spatial])\n",
    "    spatial = layers.Conv2D(1, (7, 7), padding='same', activation='sigmoid')(concat)\n",
    "    return layers.Multiply()([x, spatial])"
   ],
   "id": "5dfaa19768433c99",
   "outputs": [],
   "execution_count": 13
  },
  {
   "metadata": {
    "ExecuteTime": {
     "end_time": "2025-07-05T07:38:05.535037Z",
     "start_time": "2025-07-05T07:38:05.519041Z"
    }
   },
   "cell_type": "code",
   "source": [
    "def crm_block(x):\n",
    "    edge = tf.image.sobel_edges(x)\n",
    "    edge_mean = tf.reduce_mean(edge, axis=-1, keepdims=True)\n",
    "    stat_mean = tf.reduce_mean(x, axis=[1, 2], keepdims=True)\n",
    "    stat_mean = tf.tile(stat_mean, [1, x.shape[1], x.shape[2], 1])\n",
    "    x_cat = layers.Concatenate(axis=-1)([edge_mean[..., 0], stat_mean])\n",
    "    attention = layers.Conv2D(x.shape[-1], (1, 1), activation='sigmoid')(x_cat)\n",
    "    return layers.Multiply()([x, attention])"
   ],
   "id": "d1eeeb6638f013f7",
   "outputs": [],
   "execution_count": 14
  },
  {
   "metadata": {
    "ExecuteTime": {
     "end_time": "2025-07-05T07:38:06.890722Z",
     "start_time": "2025-07-05T07:38:06.858987Z"
    }
   },
   "cell_type": "code",
   "source": [
    "def build_model(input_shape=(320, 320, 3), num_classes=4):\n",
    "    base = DenseNet121(include_top=False, weights='imagenet', input_shape=input_shape)\n",
    "    base.trainable = False\n",
    "    x = base.output\n",
    "    x = cbam_block(x)\n",
    "    x = crm_block(x)\n",
    "    x = layers.GlobalAveragePooling2D()(x)\n",
    "    x = layers.Dense(256, activation='relu')(x)\n",
    "    x = layers.Dropout(0.5)(x)\n",
    "    x = layers.Dense(128, activation='relu')(x)\n",
    "    x = layers.Dropout(0.5)(x)\n",
    "    outputs = layers.Dense(num_classes, activation='sigmoid')(x)\n",
    "    model = Model(inputs=base.input, outputs=outputs)\n",
    "    return model"
   ],
   "id": "b653281972d10294",
   "outputs": [],
   "execution_count": 15
  },
  {
   "metadata": {
    "ExecuteTime": {
     "end_time": "2025-07-04T17:40:27.690785Z",
     "start_time": "2025-07-04T17:40:27.683498Z"
    }
   },
   "cell_type": "code",
   "source": [
    "def train_model(model, train_gen, val_gen, epochs=30):\n",
    "    model.compile(optimizer=AdamW(learning_rate=1e-4, weight_decay=1e-4),\n",
    "                  loss=SigmoidFocalCrossEntropy(),\n",
    "                  metrics=['accuracy'])\n",
    "    callbacks = [\n",
    "        EarlyStopping(patience=8, restore_best_weights=True),\n",
    "        ReduceLROnPlateau(patience=4, factor=0.5),\n",
    "        ModelCheckpoint(\"EyeNet_DenseNet121_CBAM_1101.h5\", save_best_only=True)\n",
    "    ]\n",
    "    return model.fit(train_gen, validation_data=val_gen, epochs=epochs, callbacks=callbacks)"
   ],
   "id": "79c6feac179708c9",
   "outputs": [],
   "execution_count": 22
  },
  {
   "metadata": {
    "ExecuteTime": {
     "end_time": "2025-07-04T17:40:28.911218Z",
     "start_time": "2025-07-04T17:40:28.900219Z"
    }
   },
   "cell_type": "code",
   "source": [
    "def fine_tune_model(model, train_gen, val_gen, epochs=10):\n",
    "    model.trainable = True\n",
    "    model.compile(optimizer=AdamW(learning_rate=1e-5, weight_decay=1e-5),\n",
    "                  loss=SigmoidFocalCrossEntropy(),\n",
    "                  metrics=['accuracy'])\n",
    "    return model.fit(train_gen, validation_data=val_gen, epochs=epochs)"
   ],
   "id": "5a171779d7427e76",
   "outputs": [],
   "execution_count": 23
  },
  {
   "metadata": {
    "ExecuteTime": {
     "end_time": "2025-07-04T17:40:29.788205Z",
     "start_time": "2025-07-04T17:40:29.768220Z"
    }
   },
   "cell_type": "code",
   "source": [
    "def evaluate_model(model, test_gen):\n",
    "    loss, acc = model.evaluate(test_gen)\n",
    "    print(f\"Test Accuracy: {acc * 100:.2f}%\")\n",
    "    y_true = test_gen.classes\n",
    "    y_pred = np.argmax(model.predict(test_gen), axis=1)\n",
    "    print(classification_report(y_true, y_pred, target_names=test_gen.class_indices.keys()))\n",
    "    cm = confusion_matrix(y_true, y_pred)\n",
    "    plt.imshow(cm, cmap='Blues'); plt.title(\"Confusion Matrix\"); plt.colorbar()\n",
    "    plt.xlabel(\"Predicted\"); plt.ylabel(\"Actual\")\n",
    "    plt.show()"
   ],
   "id": "ed675568ca0a3e26",
   "outputs": [],
   "execution_count": 24
  },
  {
   "metadata": {
    "ExecuteTime": {
     "end_time": "2025-07-04T17:40:30.878332Z",
     "start_time": "2025-07-04T17:40:30.871332Z"
    }
   },
   "cell_type": "code",
   "source": [
    "def main():\n",
    "    # set_seed()\n",
    "    mixed_precision.set_global_policy('mixed_float16')\n",
    "    base_dir = r'C:\\Users\\User\\Desktop\\dataset_split'\n",
    "    train_dir = os.path.join(base_dir, 'train')\n",
    "    val_dir = os.path.join(base_dir, 'val')\n",
    "    test_dir = os.path.join(base_dir, 'test')\n",
    "    train_gen, val_gen, test_gen = create_generators(train_dir, val_dir, test_dir)\n",
    "    model = build_model()\n",
    "    train_model(model, train_gen, val_gen)\n",
    "    fine_tune_model(model, train_gen, val_gen)\n",
    "    evaluate_model(model, test_gen)\n",
    "    model.save(\"EyeNet_Model.h5\")\n",
    "    print(\"Model saved.\")"
   ],
   "id": "9f646fde511d8ab5",
   "outputs": [],
   "execution_count": 25
  },
  {
   "metadata": {
    "ExecuteTime": {
     "end_time": "2025-07-04T18:39:25.771767Z",
     "start_time": "2025-07-04T17:40:32.199469Z"
    }
   },
   "cell_type": "code",
   "source": [
    "if __name__ == '__main__':\n",
    "    main()"
   ],
   "id": "76e3ecdd2954b6d5",
   "outputs": [
    {
     "name": "stdout",
     "output_type": "stream",
     "text": [
      "INFO:tensorflow:Mixed precision compatibility check (mixed_float16): OK\n",
      "Your GPU will likely run quickly with dtype policy mixed_float16 as it has compute capability of at least 7.0. Your GPU: NVIDIA GeForce RTX 4080 SUPER, compute capability 8.9\n",
      "Found 7490 images belonging to 4 classes.\n",
      "Found 1499 images belonging to 4 classes.\n",
      "Found 1000 images belonging to 4 classes.\n",
      "Epoch 1/30\n",
      "469/469 [==============================] - 115s 239ms/step - loss: 0.2278 - accuracy: 0.4187 - val_loss: 0.1541 - val_accuracy: 0.6651 - lr: 1.0000e-04\n",
      "Epoch 2/30\n",
      "469/469 [==============================] - 88s 188ms/step - loss: 0.1587 - accuracy: 0.6558 - val_loss: 0.1166 - val_accuracy: 0.7665 - lr: 1.0000e-04\n",
      "Epoch 3/30\n",
      "469/469 [==============================] - 87s 185ms/step - loss: 0.1289 - accuracy: 0.7379 - val_loss: 0.0998 - val_accuracy: 0.8005 - lr: 1.0000e-04\n",
      "Epoch 4/30\n",
      "469/469 [==============================] - 83s 177ms/step - loss: 0.1083 - accuracy: 0.7975 - val_loss: 0.0912 - val_accuracy: 0.8212 - lr: 1.0000e-04\n",
      "Epoch 5/30\n",
      "469/469 [==============================] - 86s 184ms/step - loss: 0.0995 - accuracy: 0.8128 - val_loss: 0.0825 - val_accuracy: 0.8352 - lr: 1.0000e-04\n",
      "Epoch 6/30\n",
      "469/469 [==============================] - 85s 182ms/step - loss: 0.0896 - accuracy: 0.8378 - val_loss: 0.0769 - val_accuracy: 0.8526 - lr: 1.0000e-04\n",
      "Epoch 7/30\n",
      "469/469 [==============================] - 85s 182ms/step - loss: 0.0840 - accuracy: 0.8473 - val_loss: 0.0830 - val_accuracy: 0.8479 - lr: 1.0000e-04\n",
      "Epoch 8/30\n",
      "469/469 [==============================] - 85s 181ms/step - loss: 0.0767 - accuracy: 0.8582 - val_loss: 0.0722 - val_accuracy: 0.8652 - lr: 1.0000e-04\n",
      "Epoch 9/30\n",
      "469/469 [==============================] - 86s 183ms/step - loss: 0.0714 - accuracy: 0.8720 - val_loss: 0.0707 - val_accuracy: 0.8686 - lr: 1.0000e-04\n",
      "Epoch 10/30\n",
      "469/469 [==============================] - 87s 185ms/step - loss: 0.0675 - accuracy: 0.8808 - val_loss: 0.0657 - val_accuracy: 0.8706 - lr: 1.0000e-04\n",
      "Epoch 11/30\n",
      "469/469 [==============================] - 87s 186ms/step - loss: 0.0650 - accuracy: 0.8877 - val_loss: 0.0609 - val_accuracy: 0.8853 - lr: 1.0000e-04\n",
      "Epoch 12/30\n",
      "469/469 [==============================] - 87s 185ms/step - loss: 0.0591 - accuracy: 0.8973 - val_loss: 0.0603 - val_accuracy: 0.8906 - lr: 1.0000e-04\n",
      "Epoch 13/30\n",
      "469/469 [==============================] - 86s 184ms/step - loss: 0.0576 - accuracy: 0.8987 - val_loss: 0.0571 - val_accuracy: 0.8879 - lr: 1.0000e-04\n",
      "Epoch 14/30\n",
      "469/469 [==============================] - 87s 185ms/step - loss: 0.0551 - accuracy: 0.9065 - val_loss: 0.0556 - val_accuracy: 0.8999 - lr: 1.0000e-04\n",
      "Epoch 15/30\n",
      "469/469 [==============================] - 87s 185ms/step - loss: 0.0521 - accuracy: 0.9107 - val_loss: 0.0561 - val_accuracy: 0.8979 - lr: 1.0000e-04\n",
      "Epoch 16/30\n",
      "469/469 [==============================] - 84s 180ms/step - loss: 0.0502 - accuracy: 0.9128 - val_loss: 0.0653 - val_accuracy: 0.8833 - lr: 1.0000e-04\n",
      "Epoch 17/30\n",
      "469/469 [==============================] - 85s 182ms/step - loss: 0.0471 - accuracy: 0.9176 - val_loss: 0.0562 - val_accuracy: 0.9039 - lr: 1.0000e-04\n",
      "Epoch 18/30\n",
      "469/469 [==============================] - 87s 185ms/step - loss: 0.0453 - accuracy: 0.9226 - val_loss: 0.0493 - val_accuracy: 0.9139 - lr: 1.0000e-04\n",
      "Epoch 19/30\n",
      "469/469 [==============================] - 87s 185ms/step - loss: 0.0425 - accuracy: 0.9298 - val_loss: 0.0517 - val_accuracy: 0.9119 - lr: 1.0000e-04\n",
      "Epoch 20/30\n",
      "469/469 [==============================] - 85s 181ms/step - loss: 0.0416 - accuracy: 0.9288 - val_loss: 0.0516 - val_accuracy: 0.9146 - lr: 1.0000e-04\n",
      "Epoch 21/30\n",
      "469/469 [==============================] - 85s 182ms/step - loss: 0.0398 - accuracy: 0.9342 - val_loss: 0.0475 - val_accuracy: 0.9173 - lr: 1.0000e-04\n",
      "Epoch 22/30\n",
      "469/469 [==============================] - 87s 185ms/step - loss: 0.0396 - accuracy: 0.9363 - val_loss: 0.0449 - val_accuracy: 0.9226 - lr: 1.0000e-04\n",
      "Epoch 23/30\n",
      "469/469 [==============================] - 87s 185ms/step - loss: 0.0378 - accuracy: 0.9368 - val_loss: 0.0437 - val_accuracy: 0.9246 - lr: 1.0000e-04\n",
      "Epoch 24/30\n",
      "469/469 [==============================] - 87s 185ms/step - loss: 0.0343 - accuracy: 0.9443 - val_loss: 0.0460 - val_accuracy: 0.9173 - lr: 1.0000e-04\n",
      "Epoch 25/30\n",
      "469/469 [==============================] - 86s 183ms/step - loss: 0.0360 - accuracy: 0.9406 - val_loss: 0.0478 - val_accuracy: 0.9213 - lr: 1.0000e-04\n",
      "Epoch 26/30\n",
      "469/469 [==============================] - 85s 182ms/step - loss: 0.0340 - accuracy: 0.9439 - val_loss: 0.0449 - val_accuracy: 0.9193 - lr: 1.0000e-04\n",
      "Epoch 27/30\n",
      "469/469 [==============================] - 85s 182ms/step - loss: 0.0343 - accuracy: 0.9439 - val_loss: 0.0430 - val_accuracy: 0.9253 - lr: 1.0000e-04\n",
      "Epoch 28/30\n",
      "469/469 [==============================] - 87s 185ms/step - loss: 0.0323 - accuracy: 0.9498 - val_loss: 0.0443 - val_accuracy: 0.9233 - lr: 1.0000e-04\n",
      "Epoch 29/30\n",
      "469/469 [==============================] - 86s 182ms/step - loss: 0.0317 - accuracy: 0.9485 - val_loss: 0.0446 - val_accuracy: 0.9186 - lr: 1.0000e-04\n",
      "Epoch 30/30\n",
      "469/469 [==============================] - 85s 182ms/step - loss: 0.0322 - accuracy: 0.9481 - val_loss: 0.0468 - val_accuracy: 0.9226 - lr: 1.0000e-04\n",
      "Epoch 1/10\n",
      "469/469 [==============================] - 99s 192ms/step - loss: 0.1310 - accuracy: 0.7833 - val_loss: 0.0618 - val_accuracy: 0.8846\n",
      "Epoch 2/10\n",
      "469/469 [==============================] - 90s 191ms/step - loss: 0.0640 - accuracy: 0.8845 - val_loss: 0.0487 - val_accuracy: 0.9139\n",
      "Epoch 3/10\n",
      "469/469 [==============================] - 90s 192ms/step - loss: 0.0486 - accuracy: 0.9105 - val_loss: 0.0413 - val_accuracy: 0.9273\n",
      "Epoch 4/10\n",
      "469/469 [==============================] - 90s 193ms/step - loss: 0.0397 - accuracy: 0.9344 - val_loss: 0.0309 - val_accuracy: 0.9453\n",
      "Epoch 5/10\n",
      "469/469 [==============================] - 90s 192ms/step - loss: 0.0305 - accuracy: 0.9503 - val_loss: 0.0281 - val_accuracy: 0.9533\n",
      "Epoch 6/10\n",
      "469/469 [==============================] - 91s 193ms/step - loss: 0.0267 - accuracy: 0.9578 - val_loss: 0.0242 - val_accuracy: 0.9626\n",
      "Epoch 7/10\n",
      "469/469 [==============================] - 91s 195ms/step - loss: 0.0230 - accuracy: 0.9626 - val_loss: 0.0215 - val_accuracy: 0.9666\n",
      "Epoch 8/10\n",
      "469/469 [==============================] - 90s 193ms/step - loss: 0.0211 - accuracy: 0.9684 - val_loss: 0.0198 - val_accuracy: 0.9640\n",
      "Epoch 9/10\n",
      "469/469 [==============================] - 91s 193ms/step - loss: 0.0175 - accuracy: 0.9709 - val_loss: 0.0174 - val_accuracy: 0.9693\n",
      "Epoch 10/10\n",
      "469/469 [==============================] - 91s 194ms/step - loss: 0.0137 - accuracy: 0.9790 - val_loss: 0.0163 - val_accuracy: 0.9740\n",
      "63/63 [==============================] - 5s 83ms/step - loss: 0.0160 - accuracy: 0.9700\n",
      "Test Accuracy: 97.00%\n",
      "63/63 [==============================] - 3s 31ms/step\n",
      "                precision    recall  f1-score   support\n",
      "\n",
      "      Cataract       0.97      0.96      0.97       250\n",
      "Conjunctivitis       0.97      0.99      0.98       250\n",
      "        Normal       0.97      0.98      0.97       250\n",
      "          Stye       0.98      0.95      0.96       250\n",
      "\n",
      "      accuracy                           0.97      1000\n",
      "     macro avg       0.97      0.97      0.97      1000\n",
      "  weighted avg       0.97      0.97      0.97      1000\n",
      "\n"
     ]
    },
    {
     "data": {
      "text/plain": [
       "<Figure size 640x480 with 2 Axes>"
      ],
      "image/png": "[encoded data removed]"
     },
     "metadata": {},
     "output_type": "display_data"
    },
    {
     "name": "stdout",
     "output_type": "stream",
     "text": [
      "Model saved.\n"
     ]
    }
   ],
   "execution_count": 26
  },
  {
   "metadata": {
    "ExecuteTime": {
     "end_time": "2025-07-05T07:38:13.267865Z",
     "start_time": "2025-07-05T07:38:11.296835Z"
    }
   },
   "cell_type": "code",
   "source": [
    "from tensorflow.keras import mixed_precision\n",
    "mixed_precision.set_global_policy(\"mixed_float16\")\n",
    "\n",
    "model = build_model(input_shape=(320, 320, 3), num_classes=4)\n",
    "model.load_weights(\"EyeNet_Model.h5\")"
   ],
   "id": "fcbe3679b077b11d",
   "outputs": [],
   "execution_count": 16
  },
  {
   "metadata": {
    "ExecuteTime": {
     "end_time": "2025-07-05T07:38:47.507229Z",
     "start_time": "2025-07-05T07:38:37.106080Z"
    }
   },
   "cell_type": "code",
   "source": [
    "model_path = \"EyeNet_Model.h5\"\n",
    "test_dir = r\"C:\\Users\\User\\Desktop\\dataset_split\\test\"\n",
    "\n",
    "datagen = ImageDataGenerator(rescale=1.0 / 255)\n",
    "test_gen = datagen.flow_from_directory(\n",
    "    test_dir,\n",
    "    target_size=(320, 320),\n",
    "    batch_size=16,\n",
    "    class_mode='categorical',\n",
    "    shuffle=False\n",
    ")\n",
    "\n",
    "# Get true & predicted labels\n",
    "y_true = []\n",
    "y_pred = []\n",
    "\n",
    "for batch_x, batch_y in test_gen:\n",
    "    preds = model.predict(batch_x)\n",
    "    y_true.extend(np.argmax(batch_y, axis=1))\n",
    "    y_pred.extend(np.argmax(preds, axis=1))\n",
    "    if len(y_true) >= 1000:  # stop after full test set\n",
    "        break\n",
    "\n",
    "y_true = np.array(y_true[:1000])\n",
    "y_pred = np.array(y_pred[:1000])\n",
    "\n",
    "# Confusion matrix & report\n",
    "cm = confusion_matrix(y_true, y_pred)\n",
    "print(\"Confusion Matrix:\")\n",
    "print(cm)\n",
    "\n",
    "report = classification_report(\n",
    "    y_true, y_pred,\n",
    "    target_names=[\"Cataract\", \"Conjunctivitis\", \"Normal\", \"Stye\"]\n",
    ")\n",
    "print(report)"
   ],
   "id": "f31d7548d9c6df4b",
   "outputs": [
    {
     "name": "stdout",
     "output_type": "stream",
     "text": [
      "Found 1000 images belonging to 4 classes.\n",
      "1/1 [==============================] - 2s 2s/step\n",
      "1/1 [==============================] - 0s 32ms/step\n",
      "1/1 [==============================] - 0s 24ms/step\n",
      "1/1 [==============================] - 0s 32ms/step\n",
      "1/1 [==============================] - 0s 16ms/step\n",
      "1/1 [==============================] - 0s 16ms/step\n",
      "1/1 [==============================] - 0s 16ms/step\n",
      "1/1 [==============================] - 0s 32ms/step\n",
      "1/1 [==============================] - 0s 34ms/step\n",
      "1/1 [==============================] - 0s 32ms/step\n",
      "1/1 [==============================] - 0s 31ms/step\n",
      "1/1 [==============================] - 0s 32ms/step\n",
      "1/1 [==============================] - 0s 16ms/step\n",
      "1/1 [==============================] - 0s 32ms/step\n",
      "1/1 [==============================] - 0s 32ms/step\n",
      "1/1 [==============================] - 0s 16ms/step\n",
      "1/1 [==============================] - 0s 32ms/step\n",
      "1/1 [==============================] - 0s 16ms/step\n",
      "1/1 [==============================] - 0s 16ms/step\n",
      "1/1 [==============================] - 0s 36ms/step\n",
      "1/1 [==============================] - 0s 16ms/step\n",
      "1/1 [==============================] - 0s 32ms/step\n",
      "1/1 [==============================] - 0s 16ms/step\n",
      "1/1 [==============================] - 0s 61ms/step\n",
      "1/1 [==============================] - 0s 16ms/step\n",
      "1/1 [==============================] - 0s 32ms/step\n",
      "1/1 [==============================] - 0s 47ms/step\n",
      "1/1 [==============================] - 0s 32ms/step\n",
      "1/1 [==============================] - 0s 48ms/step\n",
      "1/1 [==============================] - 0s 31ms/step\n",
      "1/1 [==============================] - 0s 42ms/step\n",
      "1/1 [==============================] - 0s 16ms/step\n",
      "1/1 [==============================] - 0s 32ms/step\n",
      "1/1 [==============================] - 0s 32ms/step\n",
      "1/1 [==============================] - 0s 46ms/step\n",
      "1/1 [==============================] - 0s 48ms/step\n",
      "1/1 [==============================] - 0s 32ms/step\n",
      "1/1 [==============================] - 0s 16ms/step\n",
      "1/1 [==============================] - 0s 36ms/step\n",
      "1/1 [==============================] - 0s 16ms/step\n",
      "1/1 [==============================] - 0s 16ms/step\n",
      "1/1 [==============================] - 0s 49ms/step\n",
      "1/1 [==============================] - 0s 16ms/step\n",
      "1/1 [==============================] - 0s 36ms/step\n",
      "1/1 [==============================] - 0s 16ms/step\n",
      "1/1 [==============================] - 0s 16ms/step\n",
      "1/1 [==============================] - 0s 11ms/step\n",
      "1/1 [==============================] - 0s 32ms/step\n",
      "1/1 [==============================] - 0s 16ms/step\n",
      "1/1 [==============================] - 0s 32ms/step\n",
      "1/1 [==============================] - 0s 47ms/step\n",
      "1/1 [==============================] - 0s 32ms/step\n",
      "1/1 [==============================] - 0s 110ms/step\n",
      "1/1 [==============================] - 0s 16ms/step\n",
      "1/1 [==============================] - 0s 22ms/step\n",
      "1/1 [==============================] - 0s 31ms/step\n",
      "1/1 [==============================] - 0s 34ms/step\n",
      "1/1 [==============================] - 0s 22ms/step\n",
      "1/1 [==============================] - 0s 20ms/step\n",
      "1/1 [==============================] - 0s 36ms/step\n",
      "1/1 [==============================] - 0s 17ms/step\n",
      "1/1 [==============================] - 0s 34ms/step\n",
      "1/1 [==============================] - 0s 64ms/step\n",
      "Confusion Matrix:\n",
      "[[241   2   3   4]\n",
      " [  3 247   0   0]\n",
      " [  3   1 244   2]\n",
      " [  2   5   5 238]]\n",
      "                precision    recall  f1-score   support\n",
      "\n",
      "      Cataract       0.97      0.96      0.97       250\n",
      "Conjunctivitis       0.97      0.99      0.98       250\n",
      "        Normal       0.97      0.98      0.97       250\n",
      "          Stye       0.98      0.95      0.96       250\n",
      "\n",
      "      accuracy                           0.97      1000\n",
      "     macro avg       0.97      0.97      0.97      1000\n",
      "  weighted avg       0.97      0.97      0.97      1000\n",
      "\n"
     ]
    }
   ],
   "execution_count": 17
  },
  {
   "metadata": {
    "ExecuteTime": {
     "end_time": "2025-07-05T07:39:57.243484Z",
     "start_time": "2025-07-05T07:39:53.954851Z"
    }
   },
   "cell_type": "code",
   "source": [
    "from sklearn.metrics import confusion_matrix\n",
    "import numpy as np\n",
    "\n",
    "# Assume you already have:\n",
    "y_true = test_gen.classes\n",
    "y_pred = np.argmax(model.predict(test_gen), axis=1)\n",
    "\n",
    "# Compute confusion matrix\n",
    "cm = confusion_matrix(y_true, y_pred)\n",
    "print(\"Confusion Matrix:\\n\", cm)\n",
    "\n",
    "n_classes = cm.shape[0]\n",
    "\n",
    "for i in range(n_classes):\n",
    "    TP = cm[i, i]\n",
    "    FP = cm[:, i].sum() - TP\n",
    "    FN = cm[i, :].sum() - TP\n",
    "    TN = cm.sum() - (TP + FP + FN)\n",
    "    print(f\"\\nClass {i}:\")\n",
    "    print(f\"  TP: {TP}\")\n",
    "    print(f\"  FP: {FP}\")\n",
    "    print(f\"  FN: {FN}\")\n",
    "    print(f\"  TN: {TN}\")"
   ],
   "id": "7d817bc191f9d4a3",
   "outputs": [
    {
     "name": "stdout",
     "output_type": "stream",
     "text": [
      "63/63 [==============================] - 3s 33ms/step\n",
      "Confusion Matrix:\n",
      " [[241   2   3   4]\n",
      " [  3 247   0   0]\n",
      " [  3   1 244   2]\n",
      " [  2   5   5 238]]\n",
      "\n",
      "Class 0:\n",
      "  TP: 241\n",
      "  FP: 8\n",
      "  FN: 9\n",
      "  TN: 742\n",
      "\n",
      "Class 1:\n",
      "  TP: 247\n",
      "  FP: 8\n",
      "  FN: 3\n",
      "  TN: 742\n",
      "\n",
      "Class 2:\n",
      "  TP: 244\n",
      "  FP: 8\n",
      "  FN: 6\n",
      "  TN: 742\n",
      "\n",
      "Class 3:\n",
      "  TP: 238\n",
      "  FP: 6\n",
      "  FN: 12\n",
      "  TN: 744\n"
     ]
    }
   ],
   "execution_count": 18
  }
 ],
 "metadata": {
  "kernelspec": {
   "display_name": "Python 3",
   "language": "python",
   "name": "python3"
  },
  "language_info": {
   "codemirror_mode": {
    "name": "ipython",
    "version": 2
   },
   "file_extension": ".py",
   "mimetype": "text/x-python",
   "name": "python",
   "nbconvert_exporter": "python",
   "pygments_lexer": "ipython2",
   "version": "2.7.6"
  }
 },
 "nbformat": 4,
 "nbformat_minor": 5
}
