{
 "cells": [
  {
   "metadata": {
    "ExecuteTime": {
     "end_time": "2025-07-05T07:36:05.812109Z",
     "start_time": "2025-07-05T07:36:04.970082Z"
    }
   },
   "cell_type": "code",
   "source": [
    "from tensorflow.keras import mixed_precision\n",
    "import tensorflow as tf\n",
    "\n",
    "# Load the model with correct policy\n",
    "mixed_precision.set_global_policy(\"mixed_float16\")\n",
    "model = tf.keras.models.load_model(\"EyeNet_Model.h5\")\n",
    "\n",
    "# Convert all layers to float32\n",
    "for layer in model.layers:\n",
    "    if hasattr(layer, 'dtype') and layer.dtype == 'float16':\n",
    "        layer._dtype_policy = mixed_precision.Policy('float32')\n",
    "\n",
    "# Rebuild model to enforce float32 everywhere\n",
    "config = model.get_config()\n",
    "weights = model.get_weights()\n",
    "with tf.keras.utils.custom_object_scope({'SigmoidFocalCrossEntropy': tf.keras.losses.BinaryCrossentropy}):\n",
    "    model_float32 = tf.keras.Model.from_config(config)\n",
    "model_float32.set_weights(weights)\n",
    "\n",
    "# Save the pure float32 model\n",
    "model_float32.save(\"EyeNet_Model_float32.h5\")\n",
    "print(\"Saved pure float32 model.\")"
   ],
   "id": "2234a751533e9a82",
   "outputs": [
    {
     "ename": "TypeError",
     "evalue": "Exception encountered when calling layer \"tf.compat.v1.nn.depthwise_conv2d_1\" (type TFOpLambda).\n\nInput 'filter' of 'DepthwiseConv2dNative' Op has type float32 that does not match type float16 of argument 'input'.\n\nCall arguments received by layer \"tf.compat.v1.nn.depthwise_conv2d_1\" (type TFOpLambda):\n  • input=tf.Tensor(shape=(None, 12, 12, 1024), dtype=float16)\n  • filter=tf.Tensor(shape=(3, 3, 1024, 2), dtype=float32)\n  • strides=['1', '1', '1', '1']\n  • padding='VALID'\n  • rate=None\n  • name=None\n  • data_format=None\n  • dilations=None",
     "output_type": "error",
     "traceback": [
      "\u001B[1;31m---------------------------------------------------------------------------\u001B[0m",
      "\u001B[1;31mTypeError\u001B[0m                                 Traceback (most recent call last)",
      "Cell \u001B[1;32mIn[5], line 6\u001B[0m\n\u001B[0;32m      4\u001B[0m \u001B[38;5;66;03m# Load the model with correct policy\u001B[39;00m\n\u001B[0;32m      5\u001B[0m mixed_precision\u001B[38;5;241m.\u001B[39mset_global_policy(\u001B[38;5;124m\"\u001B[39m\u001B[38;5;124mmixed_float16\u001B[39m\u001B[38;5;124m\"\u001B[39m)\n\u001B[1;32m----> 6\u001B[0m model \u001B[38;5;241m=\u001B[39m \u001B[43mtf\u001B[49m\u001B[38;5;241;43m.\u001B[39;49m\u001B[43mkeras\u001B[49m\u001B[38;5;241;43m.\u001B[39;49m\u001B[43mmodels\u001B[49m\u001B[38;5;241;43m.\u001B[39;49m\u001B[43mload_model\u001B[49m\u001B[43m(\u001B[49m\u001B[38;5;124;43m\"\u001B[39;49m\u001B[38;5;124;43mEyeNet_Model.h5\u001B[39;49m\u001B[38;5;124;43m\"\u001B[39;49m\u001B[43m)\u001B[49m\n\u001B[0;32m      8\u001B[0m \u001B[38;5;66;03m# Convert all layers to float32\u001B[39;00m\n\u001B[0;32m      9\u001B[0m \u001B[38;5;28;01mfor\u001B[39;00m layer \u001B[38;5;129;01min\u001B[39;00m model\u001B[38;5;241m.\u001B[39mlayers:\n",
      "File \u001B[1;32m~\\anaconda3\\envs\\Analeyes\\lib\\site-packages\\keras\\utils\\traceback_utils.py:67\u001B[0m, in \u001B[0;36mfilter_traceback.<locals>.error_handler\u001B[1;34m(*args, **kwargs)\u001B[0m\n\u001B[0;32m     65\u001B[0m \u001B[38;5;28;01mexcept\u001B[39;00m \u001B[38;5;167;01mException\u001B[39;00m \u001B[38;5;28;01mas\u001B[39;00m e:  \u001B[38;5;66;03m# pylint: disable=broad-except\u001B[39;00m\n\u001B[0;32m     66\u001B[0m   filtered_tb \u001B[38;5;241m=\u001B[39m _process_traceback_frames(e\u001B[38;5;241m.\u001B[39m__traceback__)\n\u001B[1;32m---> 67\u001B[0m   \u001B[38;5;28;01mraise\u001B[39;00m e\u001B[38;5;241m.\u001B[39mwith_traceback(filtered_tb) \u001B[38;5;28;01mfrom\u001B[39;00m \u001B[38;5;28;01mNone\u001B[39;00m\n\u001B[0;32m     68\u001B[0m \u001B[38;5;28;01mfinally\u001B[39;00m:\n\u001B[0;32m     69\u001B[0m   \u001B[38;5;28;01mdel\u001B[39;00m filtered_tb\n",
      "File \u001B[1;32m~\\anaconda3\\envs\\Analeyes\\lib\\site-packages\\tensorflow\\python\\framework\\op_def_library.py:590\u001B[0m, in \u001B[0;36m_ExtractInputsAndAttrs\u001B[1;34m(op_type_name, op_def, allowed_list_attr_map, keywords, default_type_attr_map, attrs, inputs, input_types)\u001B[0m\n\u001B[0;32m    587\u001B[0m         \u001B[38;5;28;01mif\u001B[39;00m k \u001B[38;5;129;01mnot\u001B[39;00m \u001B[38;5;129;01min\u001B[39;00m inferred_from:\n\u001B[0;32m    588\u001B[0m           inferred_from[k] \u001B[38;5;241m=\u001B[39m \u001B[38;5;124m\"\u001B[39m\u001B[38;5;124mDefault in OpDef\u001B[39m\u001B[38;5;124m\"\u001B[39m\n\u001B[1;32m--> 590\u001B[0m     \u001B[38;5;28;01mraise\u001B[39;00m \u001B[38;5;167;01mTypeError\u001B[39;00m(\n\u001B[0;32m    591\u001B[0m         \u001B[38;5;124mf\u001B[39m\u001B[38;5;124m\"\u001B[39m\u001B[38;5;132;01m{\u001B[39;00mprefix\u001B[38;5;132;01m}\u001B[39;00m\u001B[38;5;124m type \u001B[39m\u001B[38;5;124m\"\u001B[39m\n\u001B[0;32m    592\u001B[0m         \u001B[38;5;124mf\u001B[39m\u001B[38;5;124m\"\u001B[39m\u001B[38;5;132;01m{\u001B[39;00mdtypes\u001B[38;5;241m.\u001B[39mas_dtype(attrs[input_arg\u001B[38;5;241m.\u001B[39mtype_attr])\u001B[38;5;241m.\u001B[39mname\u001B[38;5;132;01m}\u001B[39;00m\u001B[38;5;124m of \u001B[39m\u001B[38;5;124m\"\u001B[39m\n\u001B[0;32m    593\u001B[0m         \u001B[38;5;124mf\u001B[39m\u001B[38;5;124m\"\u001B[39m\u001B[38;5;124margument \u001B[39m\u001B[38;5;124m'\u001B[39m\u001B[38;5;132;01m{\u001B[39;00minferred_from[input_arg\u001B[38;5;241m.\u001B[39mtype_attr]\u001B[38;5;132;01m}\u001B[39;00m\u001B[38;5;124m'\u001B[39m\u001B[38;5;124m.\u001B[39m\u001B[38;5;124m\"\u001B[39m)\n\u001B[0;32m    595\u001B[0m types \u001B[38;5;241m=\u001B[39m [values\u001B[38;5;241m.\u001B[39mdtype]\n\u001B[0;32m    596\u001B[0m inputs\u001B[38;5;241m.\u001B[39mappend(values)\n",
      "\u001B[1;31mTypeError\u001B[0m: Exception encountered when calling layer \"tf.compat.v1.nn.depthwise_conv2d_1\" (type TFOpLambda).\n\nInput 'filter' of 'DepthwiseConv2dNative' Op has type float32 that does not match type float16 of argument 'input'.\n\nCall arguments received by layer \"tf.compat.v1.nn.depthwise_conv2d_1\" (type TFOpLambda):\n  • input=tf.Tensor(shape=(None, 12, 12, 1024), dtype=float16)\n  • filter=tf.Tensor(shape=(3, 3, 1024, 2), dtype=float32)\n  • strides=['1', '1', '1', '1']\n  • padding='VALID'\n  • rate=None\n  • name=None\n  • data_format=None\n  • dilations=None"
     ]
    }
   ],
   "execution_count": 5
  },
  {
   "cell_type": "code",
   "id": "initial_id",
   "metadata": {
    "collapsed": true,
    "ExecuteTime": {
     "end_time": "2025-07-05T07:34:26.477579Z",
     "start_time": "2025-07-05T07:34:25.616842Z"
    }
   },
   "source": [
    "from tensorflow.keras.models import load_model\n",
    "from tensorflow.keras.preprocessing.image import ImageDataGenerator\n",
    "from sklearn.metrics import confusion_matrix, classification_report\n",
    "import numpy as np\n",
    "from tensorflow.keras import mixed_precision\n",
    "\n",
    "\n",
    "mixed_precision.set_global_policy('float32')\n",
    "\n",
    "model_path = \"EyeNet_Model.h5\"\n",
    "test_dir = r\"C:\\Users\\User\\Desktop\\dataset_split\\test\"\n",
    "\n",
    "# Do NOT set mixed_float16 here\n",
    "model = load_model(model_path)\n",
    "\n",
    "datagen = ImageDataGenerator(rescale=1.0 / 255)\n",
    "test_gen = datagen.flow_from_directory(\n",
    "    test_dir,\n",
    "    target_size=(320, 320),\n",
    "    batch_size=16,\n",
    "    class_mode='categorical',\n",
    "    shuffle=False\n",
    ")\n",
    "\n",
    "# Get true & predicted labels\n",
    "y_true = []\n",
    "y_pred = []\n",
    "\n",
    "for batch_x, batch_y in test_gen:\n",
    "    preds = model.predict(batch_x)\n",
    "    y_true.extend(np.argmax(batch_y, axis=1))\n",
    "    y_pred.extend(np.argmax(preds, axis=1))\n",
    "    if len(y_true) >= 1000:  # stop after full test set\n",
    "        break\n",
    "\n",
    "y_true = np.array(y_true[:1000])\n",
    "y_pred = np.array(y_pred[:1000])\n",
    "\n",
    "# Confusion matrix & report\n",
    "cm = confusion_matrix(y_true, y_pred)\n",
    "print(\"Confusion Matrix:\")\n",
    "print(cm)\n",
    "\n",
    "report = classification_report(\n",
    "    y_true, y_pred,\n",
    "    target_names=[\"Cataract\", \"Conjunctivitis\", \"Normal\", \"Stye\"]\n",
    ")\n",
    "print(report)\n"
   ],
   "outputs": [
    {
     "ename": "TypeError",
     "evalue": "Exception encountered when calling layer \"tf.compat.v1.nn.depthwise_conv2d_1\" (type TFOpLambda).\n\nInput 'filter' of 'DepthwiseConv2dNative' Op has type float32 that does not match type float16 of argument 'input'.\n\nCall arguments received by layer \"tf.compat.v1.nn.depthwise_conv2d_1\" (type TFOpLambda):\n  • input=tf.Tensor(shape=(None, 12, 12, 1024), dtype=float16)\n  • filter=tf.Tensor(shape=(3, 3, 1024, 2), dtype=float32)\n  • strides=['1', '1', '1', '1']\n  • padding='VALID'\n  • rate=None\n  • name=None\n  • data_format=None\n  • dilations=None",
     "output_type": "error",
     "traceback": [
      "\u001B[1;31m---------------------------------------------------------------------------\u001B[0m",
      "\u001B[1;31mTypeError\u001B[0m                                 Traceback (most recent call last)",
      "Cell \u001B[1;32mIn[2], line 14\u001B[0m\n\u001B[0;32m     11\u001B[0m test_dir \u001B[38;5;241m=\u001B[39m \u001B[38;5;124mr\u001B[39m\u001B[38;5;124m\"\u001B[39m\u001B[38;5;124mC:\u001B[39m\u001B[38;5;124m\\\u001B[39m\u001B[38;5;124mUsers\u001B[39m\u001B[38;5;124m\\\u001B[39m\u001B[38;5;124mUser\u001B[39m\u001B[38;5;124m\\\u001B[39m\u001B[38;5;124mDesktop\u001B[39m\u001B[38;5;124m\\\u001B[39m\u001B[38;5;124mdataset_split\u001B[39m\u001B[38;5;124m\\\u001B[39m\u001B[38;5;124mtest\u001B[39m\u001B[38;5;124m\"\u001B[39m\n\u001B[0;32m     13\u001B[0m \u001B[38;5;66;03m# Do NOT set mixed_float16 here\u001B[39;00m\n\u001B[1;32m---> 14\u001B[0m model \u001B[38;5;241m=\u001B[39m \u001B[43mload_model\u001B[49m\u001B[43m(\u001B[49m\u001B[43mmodel_path\u001B[49m\u001B[43m)\u001B[49m\n\u001B[0;32m     16\u001B[0m datagen \u001B[38;5;241m=\u001B[39m ImageDataGenerator(rescale\u001B[38;5;241m=\u001B[39m\u001B[38;5;241m1.0\u001B[39m \u001B[38;5;241m/\u001B[39m \u001B[38;5;241m255\u001B[39m)\n\u001B[0;32m     17\u001B[0m test_gen \u001B[38;5;241m=\u001B[39m datagen\u001B[38;5;241m.\u001B[39mflow_from_directory(\n\u001B[0;32m     18\u001B[0m     test_dir,\n\u001B[0;32m     19\u001B[0m     target_size\u001B[38;5;241m=\u001B[39m(\u001B[38;5;241m320\u001B[39m, \u001B[38;5;241m320\u001B[39m),\n\u001B[1;32m   (...)\u001B[0m\n\u001B[0;32m     22\u001B[0m     shuffle\u001B[38;5;241m=\u001B[39m\u001B[38;5;28;01mFalse\u001B[39;00m\n\u001B[0;32m     23\u001B[0m )\n",
      "File \u001B[1;32m~\\anaconda3\\envs\\Analeyes\\lib\\site-packages\\keras\\utils\\traceback_utils.py:67\u001B[0m, in \u001B[0;36mfilter_traceback.<locals>.error_handler\u001B[1;34m(*args, **kwargs)\u001B[0m\n\u001B[0;32m     65\u001B[0m \u001B[38;5;28;01mexcept\u001B[39;00m \u001B[38;5;167;01mException\u001B[39;00m \u001B[38;5;28;01mas\u001B[39;00m e:  \u001B[38;5;66;03m# pylint: disable=broad-except\u001B[39;00m\n\u001B[0;32m     66\u001B[0m   filtered_tb \u001B[38;5;241m=\u001B[39m _process_traceback_frames(e\u001B[38;5;241m.\u001B[39m__traceback__)\n\u001B[1;32m---> 67\u001B[0m   \u001B[38;5;28;01mraise\u001B[39;00m e\u001B[38;5;241m.\u001B[39mwith_traceback(filtered_tb) \u001B[38;5;28;01mfrom\u001B[39;00m \u001B[38;5;28;01mNone\u001B[39;00m\n\u001B[0;32m     68\u001B[0m \u001B[38;5;28;01mfinally\u001B[39;00m:\n\u001B[0;32m     69\u001B[0m   \u001B[38;5;28;01mdel\u001B[39;00m filtered_tb\n",
      "File \u001B[1;32m~\\anaconda3\\envs\\Analeyes\\lib\\site-packages\\tensorflow\\python\\framework\\op_def_library.py:590\u001B[0m, in \u001B[0;36m_ExtractInputsAndAttrs\u001B[1;34m(op_type_name, op_def, allowed_list_attr_map, keywords, default_type_attr_map, attrs, inputs, input_types)\u001B[0m\n\u001B[0;32m    587\u001B[0m         \u001B[38;5;28;01mif\u001B[39;00m k \u001B[38;5;129;01mnot\u001B[39;00m \u001B[38;5;129;01min\u001B[39;00m inferred_from:\n\u001B[0;32m    588\u001B[0m           inferred_from[k] \u001B[38;5;241m=\u001B[39m \u001B[38;5;124m\"\u001B[39m\u001B[38;5;124mDefault in OpDef\u001B[39m\u001B[38;5;124m\"\u001B[39m\n\u001B[1;32m--> 590\u001B[0m     \u001B[38;5;28;01mraise\u001B[39;00m \u001B[38;5;167;01mTypeError\u001B[39;00m(\n\u001B[0;32m    591\u001B[0m         \u001B[38;5;124mf\u001B[39m\u001B[38;5;124m\"\u001B[39m\u001B[38;5;132;01m{\u001B[39;00mprefix\u001B[38;5;132;01m}\u001B[39;00m\u001B[38;5;124m type \u001B[39m\u001B[38;5;124m\"\u001B[39m\n\u001B[0;32m    592\u001B[0m         \u001B[38;5;124mf\u001B[39m\u001B[38;5;124m\"\u001B[39m\u001B[38;5;132;01m{\u001B[39;00mdtypes\u001B[38;5;241m.\u001B[39mas_dtype(attrs[input_arg\u001B[38;5;241m.\u001B[39mtype_attr])\u001B[38;5;241m.\u001B[39mname\u001B[38;5;132;01m}\u001B[39;00m\u001B[38;5;124m of \u001B[39m\u001B[38;5;124m\"\u001B[39m\n\u001B[0;32m    593\u001B[0m         \u001B[38;5;124mf\u001B[39m\u001B[38;5;124m\"\u001B[39m\u001B[38;5;124margument \u001B[39m\u001B[38;5;124m'\u001B[39m\u001B[38;5;132;01m{\u001B[39;00minferred_from[input_arg\u001B[38;5;241m.\u001B[39mtype_attr]\u001B[38;5;132;01m}\u001B[39;00m\u001B[38;5;124m'\u001B[39m\u001B[38;5;124m.\u001B[39m\u001B[38;5;124m\"\u001B[39m)\n\u001B[0;32m    595\u001B[0m types \u001B[38;5;241m=\u001B[39m [values\u001B[38;5;241m.\u001B[39mdtype]\n\u001B[0;32m    596\u001B[0m inputs\u001B[38;5;241m.\u001B[39mappend(values)\n",
      "\u001B[1;31mTypeError\u001B[0m: Exception encountered when calling layer \"tf.compat.v1.nn.depthwise_conv2d_1\" (type TFOpLambda).\n\nInput 'filter' of 'DepthwiseConv2dNative' Op has type float32 that does not match type float16 of argument 'input'.\n\nCall arguments received by layer \"tf.compat.v1.nn.depthwise_conv2d_1\" (type TFOpLambda):\n  • input=tf.Tensor(shape=(None, 12, 12, 1024), dtype=float16)\n  • filter=tf.Tensor(shape=(3, 3, 1024, 2), dtype=float32)\n  • strides=['1', '1', '1', '1']\n  • padding='VALID'\n  • rate=None\n  • name=None\n  • data_format=None\n  • dilations=None"
     ]
    }
   ],
   "execution_count": 2
  }
 ],
 "metadata": {
  "kernelspec": {
   "display_name": "Python 3",
   "language": "python",
   "name": "python3"
  },
  "language_info": {
   "codemirror_mode": {
    "name": "ipython",
    "version": 2
   },
   "file_extension": ".py",
   "mimetype": "text/x-python",
   "name": "python",
   "nbconvert_exporter": "python",
   "pygments_lexer": "ipython2",
   "version": "2.7.6"
  }
 },
 "nbformat": 4,
 "nbformat_minor": 5
}
